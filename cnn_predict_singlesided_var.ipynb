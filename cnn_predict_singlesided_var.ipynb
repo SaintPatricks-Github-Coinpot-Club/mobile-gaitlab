{
 "cells": [
  {
   "cell_type": "code",
   "execution_count": 1,
   "metadata": {},
   "outputs": [
    {
     "name": "stderr",
     "output_type": "stream",
     "text": [
      "Using TensorFlow backend.\n"
     ]
    }
   ],
   "source": [
    "import numpy as np\n",
    "import tensorflow as tf\n",
    "import random as rn\n",
    "import os\n",
    "import matplotlib.pyplot as plt\n",
    "%matplotlib inline\n",
    "os.environ['PYTHONHASHSEED'] = '0'\n",
    "np.random.seed(1)\n",
    "rn.seed(1)\n",
    "from keras import backend as K\n",
    "tf.set_random_seed(1)\n",
    "sess = tf.Session(graph=tf.get_default_graph())\n",
    "K.set_session(sess)\n",
    "import sys \n",
    "from keras.models import Sequential\n",
    "from keras.layers import LSTM, Dense, Activation, Dropout, Flatten\n",
    "from keras.layers import Conv1D,MaxPooling1D\n",
    "from keras.layers.normalization import BatchNormalization\n",
    "from keras.optimizers import SGD\n",
    "from keras.optimizers import RMSprop\n",
    "import keras.regularizers\n",
    "import scipy\n",
    "import math\n",
    "import sys\n",
    "import pandas as pd\n",
    "from scipy.ndimage.filters import gaussian_filter1d\n",
    "from sklearn.metrics import mean_squared_error\n",
    "from scipy.stats import linregress\n",
    "from scipy import interpolate\n",
    "from scipy import signal\n",
    "import cPickle as pickle\n",
    "from video_process_utils import *\n",
    "import collections"
   ]
  },
  {
   "cell_type": "code",
   "execution_count": 3,
   "metadata": {
    "collapsed": true
   },
   "outputs": [],
   "source": [
    "target_col = \"O2cons\""
   ]
  },
  {
   "cell_type": "code",
   "execution_count": 4,
   "metadata": {
    "collapsed": true
   },
   "outputs": [],
   "source": [
    "#assign train/validation/test ids\n",
    "alldata_processed =\\\n",
    "    pd.read_csv(\"data/annotations/alldata_processed_with_dev_residual.csv\" )\n",
    "alldata_processed['videoid'] = alldata_processed['videoid'].apply(lambda x: int(x))\n",
    "alldata_processed = alldata_processed[alldata_processed[target_col].notnull()]\n",
    "alldata_processed = alldata_processed.groupby(['videoid','side']).head(1)\n",
    "ids_nonmissing_target = set(alldata_processed['videoid'].unique())"
   ]
  },
  {
   "cell_type": "code",
   "execution_count": 6,
   "metadata": {
    "collapsed": true
   },
   "outputs": [],
   "source": [
    "datasplit_df = pd.read_csv('./data/train_test_valid_id_split.csv')\n",
    "datasplit_df['videoid'] = datasplit_df['videoid'].apply(lambda x: int(x))\n",
    "all_ids = set(datasplit_df['videoid']).intersection(ids_nonmissing_target)\n",
    "train_ids = set(datasplit_df[datasplit_df['dataset'] == 'train']['videoid']).intersection(ids_nonmissing_target)\n",
    "validation_ids = set(datasplit_df[datasplit_df['dataset'] == 'validation']['videoid']).intersection(ids_nonmissing_target)\n",
    "test_ids = set(datasplit_df[datasplit_df['dataset'] == 'test']['videoid']).intersection(ids_nonmissing_target)"
   ]
  },
  {
   "cell_type": "code",
   "execution_count": 7,
   "metadata": {
    "collapsed": true
   },
   "outputs": [],
   "source": [
    "with open('./data/all_processed_video_segments.pickle', 'r') as handle:\n",
    "    processed_video_segments = pickle.load(handle)"
   ]
  },
  {
   "cell_type": "code",
   "execution_count": 37,
   "metadata": {
    "collapsed": true
   },
   "outputs": [],
   "source": [
    "x_columns = [2*LANK,2*LANK+1,2*LKNE,2*LKNE+1,\n",
    "        2*LHIP,2*LHIP+1,2*LBTO,2*LBTO+1,\n",
    "                  2*RANK,2*RANK+1,2*RKNE,2*RKNE+1,\n",
    "        2*RHIP,2*RHIP+1,2*RBTO,2*RBTO+1,50,51,52,53,54,55,56]\n",
    "\n",
    "target_dict = {}\n",
    "for i in range(len(alldata_processed)):\n",
    "    row = alldata_processed.iloc[i]\n",
    "    target_dict[row['videoid']] = row[target_col]"
   ]
  },
  {
   "cell_type": "code",
   "execution_count": 40,
   "metadata": {
    "collapsed": true
   },
   "outputs": [],
   "source": [
    "X = [t[2] for t in processed_video_segments if t[0] in all_ids]\n",
    "X = np.stack(X)[:,:,x_columns]"
   ]
  },
  {
   "cell_type": "code",
   "execution_count": 39,
   "metadata": {
    "collapsed": true
   },
   "outputs": [],
   "source": [
    "X_train = [t[2] for t in processed_video_segments if t[0] in train_ids]\n",
    "X_train = np.stack(X_train)[:,:,x_columns]"
   ]
  },
  {
   "cell_type": "code",
   "execution_count": 13,
   "metadata": {
    "collapsed": true
   },
   "outputs": [],
   "source": [
    "X_validation = [t[2] for t in processed_video_segments if t[0] in validation_ids]\n",
    "X_validation = np.stack(X_validation)[:,:,x_columns]"
   ]
  },
  {
   "cell_type": "code",
   "execution_count": 41,
   "metadata": {
    "collapsed": true
   },
   "outputs": [],
   "source": [
    "y = np.array([target_dict[t[0]] for t in processed_video_segments if t[0] in all_ids])"
   ]
  },
  {
   "cell_type": "code",
   "execution_count": 15,
   "metadata": {
    "collapsed": true
   },
   "outputs": [],
   "source": [
    "y_train = np.array([target_dict[t[0]] for t in processed_video_segments if t[0] in train_ids])"
   ]
  },
  {
   "cell_type": "code",
   "execution_count": 16,
   "metadata": {
    "collapsed": true
   },
   "outputs": [],
   "source": [
    "y_validation = np.array([target_dict[t[0]] for t in processed_video_segments if t[0] in validation_ids])"
   ]
  },
  {
   "cell_type": "code",
   "execution_count": 19,
   "metadata": {
    "collapsed": true
   },
   "outputs": [],
   "source": [
    "videoid_count_dict = collections.Counter(np.array([t[0] for t in processed_video_segments]))"
   ]
  },
  {
   "cell_type": "code",
   "execution_count": 20,
   "metadata": {
    "collapsed": true
   },
   "outputs": [],
   "source": [
    "train_videoid_weights = [1./videoid_count_dict[t[0]] for t in processed_video_segments if t[0] in train_ids]\n",
    "train_videoid_weights = np.array(train_videoid_weights).reshape(-1,1)\n",
    "validation_videoid_weights = [1./videoid_count_dict[t[0]] for t in processed_video_segments if t[0] in validation_ids]\n",
    "validation_videoid_weights = np.array(validation_videoid_weights).reshape(-1,1)"
   ]
  },
  {
   "cell_type": "code",
   "execution_count": 21,
   "metadata": {
    "collapsed": true
   },
   "outputs": [],
   "source": [
    "target_min = np.min(y_train,axis=0)\n",
    "target_range = np.max(y_train,axis=0) - np.min(y_train,axis=0)"
   ]
  },
  {
   "cell_type": "code",
   "execution_count": 22,
   "metadata": {
    "collapsed": true
   },
   "outputs": [],
   "source": [
    "y_train_scaled = ((y_train-target_min)/target_range).reshape(-1,1)\n",
    "y_validation_scaled = ((y_validation-target_min)/target_range).reshape(-1,1)\n",
    "\n",
    "y_validation_scaled = np.hstack([y_validation_scaled,validation_videoid_weights])\n",
    "y_train_scaled = np.hstack([y_train_scaled,train_videoid_weights])\n",
    "c_i_factor = np.mean(np.vstack([train_videoid_weights,validation_videoid_weights]))"
   ]
  },
  {
   "cell_type": "code",
   "execution_count": 23,
   "metadata": {
    "collapsed": true
   },
   "outputs": [],
   "source": [
    "vid_length = 124"
   ]
  },
  {
   "cell_type": "code",
   "execution_count": 24,
   "metadata": {},
   "outputs": [
    {
     "name": "stderr",
     "output_type": "stream",
     "text": [
      "/home/bryan/anaconda2/lib/python2.7/site-packages/ipykernel_launcher.py:46: UserWarning: Update your `Conv1D` call to the Keras 2 API: `Conv1D(32, 8, padding=\"same\", input_shape=(124, 23))`\n"
     ]
    }
   ],
   "source": [
    "def step_decay(initial_lrate,epochs_drop,drop_factor):\n",
    "    def step_decay_fcn(epoch):\n",
    "        return initial_lrate * math.pow(drop_factor, math.floor((1+epoch)/epochs_drop))\n",
    "    return step_decay_fcn\n",
    "\n",
    "epochs_drop,drop_factor = (10,0.8)\n",
    "initial_lrate = 0.001\n",
    "dropout_amount = 0.5\n",
    "last_layer_dim = 10\n",
    "filter_length = 8\n",
    "conv_dim = 32\n",
    "l2_lambda = 10**(-3.5)\n",
    "\n",
    "def w_mse(weights):\n",
    "    def loss(y_true, y_pred):\n",
    "        #multiply by len(weights) to make the magnitude invariant to number of components in target\n",
    "        return K.mean(K.sum(K.square(y_true-y_pred)*weights,axis=1)*tf.reshape(y_true[:,-1],(-1,1)))/c_i_factor\n",
    "    return loss\n",
    "\n",
    "#we don't want to optimize for the column counting video occurences of course, but\n",
    "#they are included in the target so we can use that column for the loss function\n",
    "weights = [1.0,0]\n",
    "normal_weights = [1.0,0]\n",
    "\n",
    "\n",
    "#normalize weights to sum to 1 to prevent affecting loss function\n",
    "weights = weights/np.sum(weights)\n",
    "normal_weights = normal_weights/np.sum(normal_weights)\n",
    "\n",
    "#fixed epoch budget of 100 that empirically seems to be sufficient \n",
    "n_epochs = 100\n",
    "\n",
    "mse_opt = w_mse(weights)\n",
    "\n",
    "#monitor our actual objective\n",
    "mse_metric = w_mse(target_range**2*normal_weights)\n",
    "\n",
    "hyper_str = \"params_\"\n",
    "for param in [initial_lrate,epochs_drop,drop_factor,dropout_amount,conv_dim,last_layer_dim,filter_length,l2_lambda]:\n",
    "    hyper_str = hyper_str + str(param) + \"_\"\n",
    "\n",
    "K.clear_session()\n",
    "#K.set_session(sess)\n",
    "\n",
    "model = Sequential()\n",
    "model.add(Conv1D(conv_dim,filter_length, input_dim=X_train.shape[2],input_length=vid_length,padding='same'))\n",
    "model.add(Activation('relu'))\n",
    "model.add(BatchNormalization())\n",
    "model.add(Conv1D(conv_dim,filter_length,padding='same'))\n",
    "model.add(Activation('relu'))\n",
    "model.add(BatchNormalization())\n",
    "model.add(MaxPooling1D(pool_size=2))\n",
    "model.add(Dropout(dropout_amount))\n",
    "model.add(Conv1D(conv_dim,filter_length,padding='same',kernel_regularizer=keras.regularizers.l2(l2_lambda)))\n",
    "model.add(Activation('relu'))\n",
    "model.add(BatchNormalization())\n",
    "model.add(Conv1D(conv_dim,filter_length,padding='same',kernel_regularizer=keras.regularizers.l2(l2_lambda)))\n",
    "model.add(Activation('relu'))\n",
    "model.add(BatchNormalization())\n",
    "model.add(MaxPooling1D(pool_size=2))\n",
    "model.add(Dropout(dropout_amount))\n",
    "model.add(Conv1D(conv_dim,filter_length,padding='same',kernel_regularizer=keras.regularizers.l2(l2_lambda)))\n",
    "model.add(Activation('relu'))\n",
    "model.add(BatchNormalization())\n",
    "model.add(Conv1D(conv_dim,filter_length,padding='same',kernel_regularizer=keras.regularizers.l2(l2_lambda)))\n",
    "model.add(Activation('relu'))\n",
    "model.add(BatchNormalization())\n",
    "model.add(MaxPooling1D(pool_size=3))\n",
    "model.add(Dropout(dropout_amount))\n",
    "model.add(Flatten())\n",
    "model.add(Dense(last_layer_dim,activation='relu'))\n",
    "model.add(Dense(2, activation='linear'))"
   ]
  },
  {
   "cell_type": "code",
   "execution_count": 29,
   "metadata": {
    "collapsed": true
   },
   "outputs": [],
   "source": [
    "checkpoint_folder = \"/home/bryan/clinical-video/cnn_checkpoints_%s\" % (target_col)"
   ]
  },
  {
   "cell_type": "code",
   "execution_count": 54,
   "metadata": {},
   "outputs": [
    {
     "name": "stdout",
     "output_type": "stream",
     "text": [
      "Train on 16519 samples, validate on 1915 samples\n",
      "Epoch 1/100\n",
      "16512/16519 [============================>.] - ETA: 0s - loss_1: 0.1773 - loss_2: 0.0227Epoch 00000: saving model to /home/bryan/clinical-video/cnn_checkpoints_O2cons/weights-00-0.0126.hdf5\n",
      "16519/16519 [==============================] - 23s - loss_1: 0.1773 - loss_2: 0.0227 - val_loss_1: 0.1085 - val_loss_2: 0.0126\n",
      "Epoch 2/100\n",
      "16480/16519 [============================>.] - ETA: 0s - loss_1: 0.0445 - loss_2: 0.0035Epoch 00001: saving model to /home/bryan/clinical-video/cnn_checkpoints_O2cons/weights-01-0.0036.hdf5\n",
      "16519/16519 [==============================] - 21s - loss_1: 0.0445 - loss_2: 0.0035 - val_loss_1: 0.0381 - val_loss_2: 0.0036\n",
      "Epoch 3/100\n",
      "16480/16519 [============================>.] - ETA: 0s - loss_1: 0.0312 - loss_2: 0.0033Epoch 00002: saving model to /home/bryan/clinical-video/cnn_checkpoints_O2cons/weights-02-0.0034.hdf5\n",
      "16519/16519 [==============================] - 20s - loss_1: 0.0312 - loss_2: 0.0033 - val_loss_1: 0.0279 - val_loss_2: 0.0034\n",
      "Epoch 4/100\n",
      "16480/16519 [============================>.] - ETA: 0s - loss_1: 0.0233 - loss_2: 0.0031Epoch 00003: saving model to /home/bryan/clinical-video/cnn_checkpoints_O2cons/weights-03-0.0036.hdf5\n",
      "16519/16519 [==============================] - 21s - loss_1: 0.0233 - loss_2: 0.0031 - val_loss_1: 0.0243 - val_loss_2: 0.0036\n",
      "Epoch 5/100\n",
      "16480/16519 [============================>.] - ETA: 0s - loss_1: 0.0204 - loss_2: 0.0030Epoch 00004: saving model to /home/bryan/clinical-video/cnn_checkpoints_O2cons/weights-04-0.0023.hdf5\n",
      "16519/16519 [==============================] - 21s - loss_1: 0.0204 - loss_2: 0.0030 - val_loss_1: 0.0156 - val_loss_2: 0.0023\n",
      "Epoch 6/100\n",
      "16512/16519 [============================>.] - ETA: 0s - loss_1: 0.0189 - loss_2: 0.0029Epoch 00005: saving model to /home/bryan/clinical-video/cnn_checkpoints_O2cons/weights-05-0.0028.hdf5\n",
      "16519/16519 [==============================] - 21s - loss_1: 0.0189 - loss_2: 0.0029 - val_loss_1: 0.0180 - val_loss_2: 0.0028\n",
      "Epoch 7/100\n",
      "16480/16519 [============================>.] - ETA: 0s - loss_1: 0.0178 - loss_2: 0.0027Epoch 00006: saving model to /home/bryan/clinical-video/cnn_checkpoints_O2cons/weights-06-0.0036.hdf5\n",
      "16519/16519 [==============================] - 21s - loss_1: 0.0179 - loss_2: 0.0028 - val_loss_1: 0.0233 - val_loss_2: 0.0036\n",
      "Epoch 8/100\n",
      "16480/16519 [============================>.] - ETA: 0s - loss_1: 0.0176 - loss_2: 0.0027Epoch 00007: saving model to /home/bryan/clinical-video/cnn_checkpoints_O2cons/weights-07-0.0025.hdf5\n",
      "16519/16519 [==============================] - 21s - loss_1: 0.0175 - loss_2: 0.0027 - val_loss_1: 0.0162 - val_loss_2: 0.0025\n",
      "Epoch 9/100\n",
      "16480/16519 [============================>.] - ETA: 0s - loss_1: 0.0171 - loss_2: 0.0026Epoch 00008: saving model to /home/bryan/clinical-video/cnn_checkpoints_O2cons/weights-08-0.0027.hdf5\n",
      "16519/16519 [==============================] - 21s - loss_1: 0.0171 - loss_2: 0.0026 - val_loss_1: 0.0174 - val_loss_2: 0.0027\n",
      "Epoch 10/100\n",
      "16480/16519 [============================>.] - ETA: 0s - loss_1: 0.0165 - loss_2: 0.0026Epoch 00009: saving model to /home/bryan/clinical-video/cnn_checkpoints_O2cons/weights-09-0.0028.hdf5\n",
      "16519/16519 [==============================] - 21s - loss_1: 0.0165 - loss_2: 0.0026 - val_loss_1: 0.0176 - val_loss_2: 0.0028\n",
      "Epoch 11/100\n",
      "16480/16519 [============================>.] - ETA: 0s - loss_1: 0.0165 - loss_2: 0.0026Epoch 00010: saving model to /home/bryan/clinical-video/cnn_checkpoints_O2cons/weights-10-0.0021.hdf5\n",
      "16519/16519 [==============================] - 21s - loss_1: 0.0165 - loss_2: 0.0026 - val_loss_1: 0.0135 - val_loss_2: 0.0021\n",
      "Epoch 12/100\n",
      "16480/16519 [============================>.] - ETA: 0s - loss_1: 0.0162 - loss_2: 0.0025Epoch 00011: saving model to /home/bryan/clinical-video/cnn_checkpoints_O2cons/weights-11-0.0021.hdf5\n",
      "16519/16519 [==============================] - 21s - loss_1: 0.0162 - loss_2: 0.0025 - val_loss_1: 0.0135 - val_loss_2: 0.0021\n",
      "Epoch 13/100\n",
      "16480/16519 [============================>.] - ETA: 0s - loss_1: 0.0160 - loss_2: 0.0025Epoch 00012: saving model to /home/bryan/clinical-video/cnn_checkpoints_O2cons/weights-12-0.0022.hdf5\n",
      "16519/16519 [==============================] - 21s - loss_1: 0.0160 - loss_2: 0.0025 - val_loss_1: 0.0142 - val_loss_2: 0.0022\n",
      "Epoch 14/100\n",
      "16480/16519 [============================>.] - ETA: 0s - loss_1: 0.0157 - loss_2: 0.0025Epoch 00013: saving model to /home/bryan/clinical-video/cnn_checkpoints_O2cons/weights-13-0.0020.hdf5\n",
      "16519/16519 [==============================] - 21s - loss_1: 0.0157 - loss_2: 0.0025 - val_loss_1: 0.0129 - val_loss_2: 0.0020\n",
      "Epoch 15/100\n",
      "16480/16519 [============================>.] - ETA: 0s - loss_1: 0.0155 - loss_2: 0.0024Epoch 00014: saving model to /home/bryan/clinical-video/cnn_checkpoints_O2cons/weights-14-0.0020.hdf5\n",
      "16519/16519 [==============================] - 23s - loss_1: 0.0155 - loss_2: 0.0024 - val_loss_1: 0.0132 - val_loss_2: 0.0020\n",
      "Epoch 16/100\n",
      "16480/16519 [============================>.] - ETA: 0s - loss_1: 0.0153 - loss_2: 0.0024Epoch 00015: saving model to /home/bryan/clinical-video/cnn_checkpoints_O2cons/weights-15-0.0107.hdf5\n",
      "16519/16519 [==============================] - 21s - loss_1: 0.0153 - loss_2: 0.0024 - val_loss_1: 0.0656 - val_loss_2: 0.0107\n",
      "Epoch 17/100\n",
      "16480/16519 [============================>.] - ETA: 0s - loss_1: 0.0155 - loss_2: 0.0024Epoch 00016: saving model to /home/bryan/clinical-video/cnn_checkpoints_O2cons/weights-16-0.0025.hdf5\n",
      "16519/16519 [==============================] - 21s - loss_1: 0.0155 - loss_2: 0.0024 - val_loss_1: 0.0157 - val_loss_2: 0.0025\n",
      "Epoch 18/100\n",
      "16480/16519 [============================>.] - ETA: 0s - loss_1: 0.0153 - loss_2: 0.0024Epoch 00017: saving model to /home/bryan/clinical-video/cnn_checkpoints_O2cons/weights-17-0.0026.hdf5\n",
      "16519/16519 [==============================] - 21s - loss_1: 0.0153 - loss_2: 0.0024 - val_loss_1: 0.0165 - val_loss_2: 0.0026\n",
      "Epoch 19/100\n",
      "16480/16519 [============================>.] - ETA: 0s - loss_1: 0.0152 - loss_2: 0.0024Epoch 00018: saving model to /home/bryan/clinical-video/cnn_checkpoints_O2cons/weights-18-0.0027.hdf5\n",
      "16519/16519 [==============================] - 21s - loss_1: 0.0152 - loss_2: 0.0024 - val_loss_1: 0.0170 - val_loss_2: 0.0027\n",
      "Epoch 20/100\n",
      "16480/16519 [============================>.] - ETA: 0s - loss_1: 0.0147 - loss_2: 0.0023Epoch 00019: saving model to /home/bryan/clinical-video/cnn_checkpoints_O2cons/weights-19-0.0026.hdf5\n",
      "16519/16519 [==============================] - 21s - loss_1: 0.0148 - loss_2: 0.0023 - val_loss_1: 0.0165 - val_loss_2: 0.0026\n",
      "Epoch 21/100\n",
      "16480/16519 [============================>.] - ETA: 0s - loss_1: 0.0148 - loss_2: 0.0023Epoch 00020: saving model to /home/bryan/clinical-video/cnn_checkpoints_O2cons/weights-20-0.0025.hdf5\n",
      "16519/16519 [==============================] - 21s - loss_1: 0.0148 - loss_2: 0.0023 - val_loss_1: 0.0156 - val_loss_2: 0.0025\n",
      "Epoch 22/100\n",
      "16480/16519 [============================>.] - ETA: 0s - loss_1: 0.0145 - loss_2: 0.0023Epoch 00021: saving model to /home/bryan/clinical-video/cnn_checkpoints_O2cons/weights-21-0.0022.hdf5\n",
      "16519/16519 [==============================] - 21s - loss_1: 0.0145 - loss_2: 0.0023 - val_loss_1: 0.0142 - val_loss_2: 0.0022\n",
      "Epoch 23/100\n",
      "16480/16519 [============================>.] - ETA: 0s - loss_1: 0.0142 - loss_2: 0.0022Epoch 00022: saving model to /home/bryan/clinical-video/cnn_checkpoints_O2cons/weights-22-0.0024.hdf5\n",
      "16519/16519 [==============================] - 21s - loss_1: 0.0142 - loss_2: 0.0022 - val_loss_1: 0.0149 - val_loss_2: 0.0024\n",
      "Epoch 24/100\n",
      "16480/16519 [============================>.] - ETA: 0s - loss_1: 0.0144 - loss_2: 0.0023Epoch 00023: saving model to /home/bryan/clinical-video/cnn_checkpoints_O2cons/weights-23-0.0024.hdf5\n",
      "16519/16519 [==============================] - 21s - loss_1: 0.0144 - loss_2: 0.0023 - val_loss_1: 0.0154 - val_loss_2: 0.0024\n",
      "Epoch 25/100\n",
      "16480/16519 [============================>.] - ETA: 0s - loss_1: 0.0140 - loss_2: 0.0022Epoch 00024: saving model to /home/bryan/clinical-video/cnn_checkpoints_O2cons/weights-24-0.0021.hdf5\n",
      "16519/16519 [==============================] - 21s - loss_1: 0.0140 - loss_2: 0.0022 - val_loss_1: 0.0130 - val_loss_2: 0.0021\n",
      "Epoch 26/100\n",
      "16480/16519 [============================>.] - ETA: 0s - loss_1: 0.0141 - loss_2: 0.0022Epoch 00025: saving model to /home/bryan/clinical-video/cnn_checkpoints_O2cons/weights-25-0.0021.hdf5\n",
      "16519/16519 [==============================] - 21s - loss_1: 0.0140 - loss_2: 0.0022 - val_loss_1: 0.0132 - val_loss_2: 0.0021\n",
      "Epoch 27/100\n",
      "16480/16519 [============================>.] - ETA: 0s - loss_1: 0.0141 - loss_2: 0.0022Epoch 00026: saving model to /home/bryan/clinical-video/cnn_checkpoints_O2cons/weights-26-0.0027.hdf5\n",
      "16519/16519 [==============================] - 21s - loss_1: 0.0141 - loss_2: 0.0022 - val_loss_1: 0.0170 - val_loss_2: 0.0027\n",
      "Epoch 28/100\n",
      "16480/16519 [============================>.] - ETA: 0s - loss_1: 0.0139 - loss_2: 0.0022Epoch 00027: saving model to /home/bryan/clinical-video/cnn_checkpoints_O2cons/weights-27-0.0020.hdf5\n",
      "16519/16519 [==============================] - 21s - loss_1: 0.0139 - loss_2: 0.0022 - val_loss_1: 0.0129 - val_loss_2: 0.0020\n",
      "Epoch 29/100\n",
      "16480/16519 [============================>.] - ETA: 0s - loss_1: 0.0139 - loss_2: 0.0022Epoch 00028: saving model to /home/bryan/clinical-video/cnn_checkpoints_O2cons/weights-28-0.0021.hdf5\n",
      "16519/16519 [==============================] - 22s - loss_1: 0.0139 - loss_2: 0.0022 - val_loss_1: 0.0135 - val_loss_2: 0.0021\n",
      "Epoch 30/100\n",
      "16480/16519 [============================>.] - ETA: 0s - loss_1: 0.0135 - loss_2: 0.0021Epoch 00029: saving model to /home/bryan/clinical-video/cnn_checkpoints_O2cons/weights-29-0.0025.hdf5\n",
      "16519/16519 [==============================] - 22s - loss_1: 0.0135 - loss_2: 0.0021 - val_loss_1: 0.0156 - val_loss_2: 0.0025\n",
      "Epoch 31/100\n",
      "16480/16519 [============================>.] - ETA: 0s - loss_1: 0.0133 - loss_2: 0.0021Epoch 00030: saving model to /home/bryan/clinical-video/cnn_checkpoints_O2cons/weights-30-0.0022.hdf5\n",
      "16519/16519 [==============================] - 21s - loss_1: 0.0133 - loss_2: 0.0021 - val_loss_1: 0.0139 - val_loss_2: 0.0022\n",
      "Epoch 32/100\n",
      "16512/16519 [============================>.] - ETA: 0s - loss_1: 0.0132 - loss_2: 0.0021Epoch 00031: saving model to /home/bryan/clinical-video/cnn_checkpoints_O2cons/weights-31-0.0024.hdf5\n",
      "16519/16519 [==============================] - 21s - loss_1: 0.0132 - loss_2: 0.0021 - val_loss_1: 0.0151 - val_loss_2: 0.0024\n",
      "Epoch 33/100\n",
      "16480/16519 [============================>.] - ETA: 0s - loss_1: 0.0132 - loss_2: 0.0021Epoch 00032: saving model to /home/bryan/clinical-video/cnn_checkpoints_O2cons/weights-32-0.0021.hdf5\n",
      "16519/16519 [==============================] - 21s - loss_1: 0.0132 - loss_2: 0.0021 - val_loss_1: 0.0136 - val_loss_2: 0.0021\n",
      "Epoch 34/100\n",
      "16480/16519 [============================>.] - ETA: 0s - loss_1: 0.0131 - loss_2: 0.0021Epoch 00033: saving model to /home/bryan/clinical-video/cnn_checkpoints_O2cons/weights-33-0.0023.hdf5\n",
      "16519/16519 [==============================] - 21s - loss_1: 0.0131 - loss_2: 0.0021 - val_loss_1: 0.0147 - val_loss_2: 0.0023\n",
      "Epoch 35/100\n",
      "16480/16519 [============================>.] - ETA: 0s - loss_1: 0.0131 - loss_2: 0.0021Epoch 00034: saving model to /home/bryan/clinical-video/cnn_checkpoints_O2cons/weights-34-0.0020.hdf5\n",
      "16519/16519 [==============================] - 21s - loss_1: 0.0131 - loss_2: 0.0021 - val_loss_1: 0.0127 - val_loss_2: 0.0020\n",
      "Epoch 36/100\n",
      "16480/16519 [============================>.] - ETA: 0s - loss_1: 0.0130 - loss_2: 0.0020Epoch 00035: saving model to /home/bryan/clinical-video/cnn_checkpoints_O2cons/weights-35-0.0027.hdf5\n",
      "16519/16519 [==============================] - 21s - loss_1: 0.0130 - loss_2: 0.0020 - val_loss_1: 0.0169 - val_loss_2: 0.0027\n",
      "Epoch 37/100\n",
      "16480/16519 [============================>.] - ETA: 0s - loss_1: 0.0131 - loss_2: 0.0021Epoch 00036: saving model to /home/bryan/clinical-video/cnn_checkpoints_O2cons/weights-36-0.0021.hdf5\n",
      "16519/16519 [==============================] - 22s - loss_1: 0.0131 - loss_2: 0.0021 - val_loss_1: 0.0134 - val_loss_2: 0.0021\n",
      "Epoch 38/100\n",
      "16512/16519 [============================>.] - ETA: 0s - loss_1: 0.0128 - loss_2: 0.0020Epoch 00037: saving model to /home/bryan/clinical-video/cnn_checkpoints_O2cons/weights-37-0.0023.hdf5\n",
      "16519/16519 [==============================] - 21s - loss_1: 0.0128 - loss_2: 0.0020 - val_loss_1: 0.0142 - val_loss_2: 0.0023\n",
      "Epoch 39/100\n",
      "16480/16519 [============================>.] - ETA: 0s - loss_1: 0.0129 - loss_2: 0.0020Epoch 00038: saving model to /home/bryan/clinical-video/cnn_checkpoints_O2cons/weights-38-0.0024.hdf5\n",
      "16519/16519 [==============================] - 21s - loss_1: 0.0129 - loss_2: 0.0020 - val_loss_1: 0.0148 - val_loss_2: 0.0024\n",
      "Epoch 40/100\n",
      "16512/16519 [============================>.] - ETA: 0s - loss_1: 0.0127 - loss_2: 0.0020Epoch 00039: saving model to /home/bryan/clinical-video/cnn_checkpoints_O2cons/weights-39-0.0021.hdf5\n",
      "16519/16519 [==============================] - 22s - loss_1: 0.0127 - loss_2: 0.0020 - val_loss_1: 0.0132 - val_loss_2: 0.0021\n",
      "Epoch 41/100\n",
      "16512/16519 [============================>.] - ETA: 0s - loss_1: 0.0125 - loss_2: 0.0020Epoch 00040: saving model to /home/bryan/clinical-video/cnn_checkpoints_O2cons/weights-40-0.0023.hdf5\n",
      "16519/16519 [==============================] - 21s - loss_1: 0.0125 - loss_2: 0.0020 - val_loss_1: 0.0145 - val_loss_2: 0.0023\n",
      "Epoch 42/100\n",
      "16512/16519 [============================>.] - ETA: 0s - loss_1: 0.0124 - loss_2: 0.0020Epoch 00041: saving model to /home/bryan/clinical-video/cnn_checkpoints_O2cons/weights-41-0.0022.hdf5\n",
      "16519/16519 [==============================] - 21s - loss_1: 0.0124 - loss_2: 0.0020 - val_loss_1: 0.0140 - val_loss_2: 0.0022\n",
      "Epoch 43/100\n",
      "16480/16519 [============================>.] - ETA: 0s - loss_1: 0.0123 - loss_2: 0.0019Epoch 00042: saving model to /home/bryan/clinical-video/cnn_checkpoints_O2cons/weights-42-0.0022.hdf5\n",
      "16519/16519 [==============================] - 22s - loss_1: 0.0123 - loss_2: 0.0019 - val_loss_1: 0.0137 - val_loss_2: 0.0022\n",
      "Epoch 44/100\n",
      "16512/16519 [============================>.] - ETA: 0s - loss_1: 0.0124 - loss_2: 0.0020Epoch 00043: saving model to /home/bryan/clinical-video/cnn_checkpoints_O2cons/weights-43-0.0026.hdf5\n",
      "16519/16519 [==============================] - 23s - loss_1: 0.0124 - loss_2: 0.0020 - val_loss_1: 0.0165 - val_loss_2: 0.0026\n",
      "Epoch 45/100\n",
      "16512/16519 [============================>.] - ETA: 0s - loss_1: 0.0123 - loss_2: 0.0019Epoch 00044: saving model to /home/bryan/clinical-video/cnn_checkpoints_O2cons/weights-44-0.0022.hdf5\n",
      "16519/16519 [==============================] - 21s - loss_1: 0.0123 - loss_2: 0.0019 - val_loss_1: 0.0137 - val_loss_2: 0.0022\n",
      "Epoch 46/100\n",
      "16480/16519 [============================>.] - ETA: 0s - loss_1: 0.0123 - loss_2: 0.0019Epoch 00045: saving model to /home/bryan/clinical-video/cnn_checkpoints_O2cons/weights-45-0.0025.hdf5\n",
      "16519/16519 [==============================] - 21s - loss_1: 0.0123 - loss_2: 0.0019 - val_loss_1: 0.0154 - val_loss_2: 0.0025\n",
      "Epoch 47/100\n",
      "16512/16519 [============================>.] - ETA: 0s - loss_1: 0.0122 - loss_2: 0.0019Epoch 00046: saving model to /home/bryan/clinical-video/cnn_checkpoints_O2cons/weights-46-0.0023.hdf5\n",
      "16519/16519 [==============================] - 23s - loss_1: 0.0122 - loss_2: 0.0019 - val_loss_1: 0.0147 - val_loss_2: 0.0023\n",
      "Epoch 48/100\n",
      "16512/16519 [============================>.] - ETA: 0s - loss_1: 0.0122 - loss_2: 0.0019Epoch 00047: saving model to /home/bryan/clinical-video/cnn_checkpoints_O2cons/weights-47-0.0022.hdf5\n",
      "16519/16519 [==============================] - 22s - loss_1: 0.0122 - loss_2: 0.0019 - val_loss_1: 0.0137 - val_loss_2: 0.0022\n",
      "Epoch 49/100\n",
      "16480/16519 [============================>.] - ETA: 0s - loss_1: 0.0123 - loss_2: 0.0019Epoch 00048: saving model to /home/bryan/clinical-video/cnn_checkpoints_O2cons/weights-48-0.0021.hdf5\n",
      "16519/16519 [==============================] - 21s - loss_1: 0.0123 - loss_2: 0.0019 - val_loss_1: 0.0134 - val_loss_2: 0.0021\n",
      "Epoch 50/100\n",
      "16480/16519 [============================>.] - ETA: 0s - loss_1: 0.0120 - loss_2: 0.0019Epoch 00049: saving model to /home/bryan/clinical-video/cnn_checkpoints_O2cons/weights-49-0.0020.hdf5\n"
     ]
    },
    {
     "name": "stdout",
     "output_type": "stream",
     "text": [
      "16519/16519 [==============================] - 21s - loss_1: 0.0120 - loss_2: 0.0019 - val_loss_1: 0.0126 - val_loss_2: 0.0020\n",
      "Epoch 51/100\n",
      "16512/16519 [============================>.] - ETA: 0s - loss_1: 0.0119 - loss_2: 0.0019Epoch 00050: saving model to /home/bryan/clinical-video/cnn_checkpoints_O2cons/weights-50-0.0021.hdf5\n",
      "16519/16519 [==============================] - 22s - loss_1: 0.0119 - loss_2: 0.0019 - val_loss_1: 0.0132 - val_loss_2: 0.0021\n",
      "Epoch 52/100\n",
      "16512/16519 [============================>.] - ETA: 0s - loss_1: 0.0119 - loss_2: 0.0019Epoch 00051: saving model to /home/bryan/clinical-video/cnn_checkpoints_O2cons/weights-51-0.0021.hdf5\n",
      "16519/16519 [==============================] - 22s - loss_1: 0.0119 - loss_2: 0.0019 - val_loss_1: 0.0134 - val_loss_2: 0.0021\n",
      "Epoch 53/100\n",
      "16512/16519 [============================>.] - ETA: 0s - loss_1: 0.0119 - loss_2: 0.0019Epoch 00052: saving model to /home/bryan/clinical-video/cnn_checkpoints_O2cons/weights-52-0.0022.hdf5\n",
      "16519/16519 [==============================] - 22s - loss_1: 0.0119 - loss_2: 0.0019 - val_loss_1: 0.0141 - val_loss_2: 0.0022\n",
      "Epoch 54/100\n",
      "16480/16519 [============================>.] - ETA: 0s - loss_1: 0.0118 - loss_2: 0.0019Epoch 00053: saving model to /home/bryan/clinical-video/cnn_checkpoints_O2cons/weights-53-0.0021.hdf5\n",
      "16519/16519 [==============================] - 21s - loss_1: 0.0118 - loss_2: 0.0019 - val_loss_1: 0.0130 - val_loss_2: 0.0021\n",
      "Epoch 55/100\n",
      "16512/16519 [============================>.] - ETA: 0s - loss_1: 0.0119 - loss_2: 0.0019Epoch 00054: saving model to /home/bryan/clinical-video/cnn_checkpoints_O2cons/weights-54-0.0023.hdf5\n",
      "16519/16519 [==============================] - 22s - loss_1: 0.0119 - loss_2: 0.0019 - val_loss_1: 0.0147 - val_loss_2: 0.0023\n",
      "Epoch 56/100\n",
      "16480/16519 [============================>.] - ETA: 0s - loss_1: 0.0117 - loss_2: 0.0018Epoch 00055: saving model to /home/bryan/clinical-video/cnn_checkpoints_O2cons/weights-55-0.0021.hdf5\n",
      "16519/16519 [==============================] - 22s - loss_1: 0.0117 - loss_2: 0.0018 - val_loss_1: 0.0134 - val_loss_2: 0.0021\n",
      "Epoch 57/100\n",
      "16512/16519 [============================>.] - ETA: 0s - loss_1: 0.0117 - loss_2: 0.0019Epoch 00056: saving model to /home/bryan/clinical-video/cnn_checkpoints_O2cons/weights-56-0.0024.hdf5\n",
      "16519/16519 [==============================] - 24s - loss_1: 0.0117 - loss_2: 0.0019 - val_loss_1: 0.0147 - val_loss_2: 0.0024\n",
      "Epoch 58/100\n",
      "16512/16519 [============================>.] - ETA: 0s - loss_1: 0.0117 - loss_2: 0.0018Epoch 00057: saving model to /home/bryan/clinical-video/cnn_checkpoints_O2cons/weights-57-0.0022.hdf5\n",
      "16519/16519 [==============================] - 23s - loss_1: 0.0117 - loss_2: 0.0018 - val_loss_1: 0.0136 - val_loss_2: 0.0022\n",
      "Epoch 59/100\n",
      "16480/16519 [============================>.] - ETA: 0s - loss_1: 0.0118 - loss_2: 0.0019Epoch 00058: saving model to /home/bryan/clinical-video/cnn_checkpoints_O2cons/weights-58-0.0022.hdf5\n",
      "16519/16519 [==============================] - 22s - loss_1: 0.0118 - loss_2: 0.0019 - val_loss_1: 0.0138 - val_loss_2: 0.0022\n",
      "Epoch 60/100\n",
      "16512/16519 [============================>.] - ETA: 0s - loss_1: 0.0115 - loss_2: 0.0018Epoch 00059: saving model to /home/bryan/clinical-video/cnn_checkpoints_O2cons/weights-59-0.0024.hdf5\n",
      "16519/16519 [==============================] - 23s - loss_1: 0.0115 - loss_2: 0.0018 - val_loss_1: 0.0148 - val_loss_2: 0.0024\n",
      "Epoch 61/100\n",
      "16480/16519 [============================>.] - ETA: 0s - loss_1: 0.0115 - loss_2: 0.0018Epoch 00060: saving model to /home/bryan/clinical-video/cnn_checkpoints_O2cons/weights-60-0.0022.hdf5\n",
      "16519/16519 [==============================] - 22s - loss_1: 0.0115 - loss_2: 0.0018 - val_loss_1: 0.0137 - val_loss_2: 0.0022\n",
      "Epoch 62/100\n",
      "16512/16519 [============================>.] - ETA: 0s - loss_1: 0.0113 - loss_2: 0.0018Epoch 00061: saving model to /home/bryan/clinical-video/cnn_checkpoints_O2cons/weights-61-0.0022.hdf5\n",
      "16519/16519 [==============================] - 22s - loss_1: 0.0113 - loss_2: 0.0018 - val_loss_1: 0.0139 - val_loss_2: 0.0022\n",
      "Epoch 63/100\n",
      "16512/16519 [============================>.] - ETA: 0s - loss_1: 0.0113 - loss_2: 0.0018Epoch 00062: saving model to /home/bryan/clinical-video/cnn_checkpoints_O2cons/weights-62-0.0024.hdf5\n",
      "16519/16519 [==============================] - 23s - loss_1: 0.0113 - loss_2: 0.0018 - val_loss_1: 0.0153 - val_loss_2: 0.0024\n",
      "Epoch 64/100\n",
      "16480/16519 [============================>.] - ETA: 0s - loss_1: 0.0113 - loss_2: 0.0018Epoch 00063: saving model to /home/bryan/clinical-video/cnn_checkpoints_O2cons/weights-63-0.0022.hdf5\n",
      "16519/16519 [==============================] - 22s - loss_1: 0.0113 - loss_2: 0.0018 - val_loss_1: 0.0136 - val_loss_2: 0.0022\n",
      "Epoch 65/100\n",
      "16512/16519 [============================>.] - ETA: 0s - loss_1: 0.0112 - loss_2: 0.0018Epoch 00064: saving model to /home/bryan/clinical-video/cnn_checkpoints_O2cons/weights-64-0.0022.hdf5\n",
      "16519/16519 [==============================] - 22s - loss_1: 0.0112 - loss_2: 0.0018 - val_loss_1: 0.0136 - val_loss_2: 0.0022\n",
      "Epoch 66/100\n",
      "16512/16519 [============================>.] - ETA: 0s - loss_1: 0.0113 - loss_2: 0.0018Epoch 00065: saving model to /home/bryan/clinical-video/cnn_checkpoints_O2cons/weights-65-0.0021.hdf5\n",
      "16519/16519 [==============================] - 22s - loss_1: 0.0113 - loss_2: 0.0018 - val_loss_1: 0.0133 - val_loss_2: 0.0021\n",
      "Epoch 67/100\n",
      "16512/16519 [============================>.] - ETA: 0s - loss_1: 0.0113 - loss_2: 0.0018Epoch 00066: saving model to /home/bryan/clinical-video/cnn_checkpoints_O2cons/weights-66-0.0020.hdf5\n",
      "16519/16519 [==============================] - 22s - loss_1: 0.0113 - loss_2: 0.0018 - val_loss_1: 0.0129 - val_loss_2: 0.0020\n",
      "Epoch 68/100\n",
      "16512/16519 [============================>.] - ETA: 0s - loss_1: 0.0113 - loss_2: 0.0018Epoch 00067: saving model to /home/bryan/clinical-video/cnn_checkpoints_O2cons/weights-67-0.0021.hdf5\n",
      "16519/16519 [==============================] - 23s - loss_1: 0.0113 - loss_2: 0.0018 - val_loss_1: 0.0132 - val_loss_2: 0.0021\n",
      "Epoch 69/100\n",
      "16512/16519 [============================>.] - ETA: 0s - loss_1: 0.0113 - loss_2: 0.0018Epoch 00068: saving model to /home/bryan/clinical-video/cnn_checkpoints_O2cons/weights-68-0.0022.hdf5\n",
      "16519/16519 [==============================] - 23s - loss_1: 0.0113 - loss_2: 0.0018 - val_loss_1: 0.0141 - val_loss_2: 0.0022\n",
      "Epoch 70/100\n",
      "16512/16519 [============================>.] - ETA: 0s - loss_1: 0.0110 - loss_2: 0.0017Epoch 00069: saving model to /home/bryan/clinical-video/cnn_checkpoints_O2cons/weights-69-0.0023.hdf5\n",
      "16519/16519 [==============================] - 23s - loss_1: 0.0110 - loss_2: 0.0017 - val_loss_1: 0.0144 - val_loss_2: 0.0023\n",
      "Epoch 71/100\n",
      "16480/16519 [============================>.] - ETA: 0s - loss_1: 0.0111 - loss_2: 0.0018Epoch 00070: saving model to /home/bryan/clinical-video/cnn_checkpoints_O2cons/weights-70-0.0022.hdf5\n",
      "16519/16519 [==============================] - 25s - loss_1: 0.0111 - loss_2: 0.0018 - val_loss_1: 0.0136 - val_loss_2: 0.0022\n",
      "Epoch 72/100\n",
      "16480/16519 [============================>.] - ETA: 0s - loss_1: 0.0109 - loss_2: 0.0017Epoch 00071: saving model to /home/bryan/clinical-video/cnn_checkpoints_O2cons/weights-71-0.0023.hdf5\n",
      "16519/16519 [==============================] - 22s - loss_1: 0.0109 - loss_2: 0.0017 - val_loss_1: 0.0147 - val_loss_2: 0.0023\n",
      "Epoch 73/100\n",
      "16512/16519 [============================>.] - ETA: 0s - loss_1: 0.0109 - loss_2: 0.0017Epoch 00072: saving model to /home/bryan/clinical-video/cnn_checkpoints_O2cons/weights-72-0.0022.hdf5\n",
      "16519/16519 [==============================] - 22s - loss_1: 0.0109 - loss_2: 0.0017 - val_loss_1: 0.0139 - val_loss_2: 0.0022\n",
      "Epoch 74/100\n",
      "16480/16519 [============================>.] - ETA: 0s - loss_1: 0.0110 - loss_2: 0.0017Epoch 00073: saving model to /home/bryan/clinical-video/cnn_checkpoints_O2cons/weights-73-0.0022.hdf5\n",
      "16519/16519 [==============================] - 22s - loss_1: 0.0110 - loss_2: 0.0017 - val_loss_1: 0.0140 - val_loss_2: 0.0022\n",
      "Epoch 75/100\n",
      "16480/16519 [============================>.] - ETA: 0s - loss_1: 0.0110 - loss_2: 0.0017Epoch 00074: saving model to /home/bryan/clinical-video/cnn_checkpoints_O2cons/weights-74-0.0022.hdf5\n"
     ]
    },
    {
     "name": "stdout",
     "output_type": "stream",
     "text": [
      "16519/16519 [==============================] - 22s - loss_1: 0.0110 - loss_2: 0.0017 - val_loss_1: 0.0136 - val_loss_2: 0.0022\n",
      "Epoch 76/100\n",
      "16480/16519 [============================>.] - ETA: 0s - loss_1: 0.0110 - loss_2: 0.0017Epoch 00075: saving model to /home/bryan/clinical-video/cnn_checkpoints_O2cons/weights-75-0.0022.hdf5\n",
      "16519/16519 [==============================] - 22s - loss_1: 0.0110 - loss_2: 0.0017 - val_loss_1: 0.0139 - val_loss_2: 0.0022\n",
      "Epoch 77/100\n",
      "16480/16519 [============================>.] - ETA: 0s - loss_1: 0.0111 - loss_2: 0.0018Epoch 00076: saving model to /home/bryan/clinical-video/cnn_checkpoints_O2cons/weights-76-0.0023.hdf5\n",
      "16519/16519 [==============================] - 22s - loss_1: 0.0111 - loss_2: 0.0018 - val_loss_1: 0.0141 - val_loss_2: 0.0023\n",
      "Epoch 78/100\n",
      "16512/16519 [============================>.] - ETA: 0s - loss_1: 0.0110 - loss_2: 0.0017Epoch 00077: saving model to /home/bryan/clinical-video/cnn_checkpoints_O2cons/weights-77-0.0022.hdf5\n",
      "16519/16519 [==============================] - 22s - loss_1: 0.0110 - loss_2: 0.0017 - val_loss_1: 0.0138 - val_loss_2: 0.0022\n",
      "Epoch 79/100\n",
      "16480/16519 [============================>.] - ETA: 0s - loss_1: 0.0110 - loss_2: 0.0017Epoch 00078: saving model to /home/bryan/clinical-video/cnn_checkpoints_O2cons/weights-78-0.0021.hdf5\n",
      "16519/16519 [==============================] - 22s - loss_1: 0.0110 - loss_2: 0.0017 - val_loss_1: 0.0134 - val_loss_2: 0.0021\n",
      "Epoch 80/100\n",
      "16512/16519 [============================>.] - ETA: 0s - loss_1: 0.0108 - loss_2: 0.0017Epoch 00079: saving model to /home/bryan/clinical-video/cnn_checkpoints_O2cons/weights-79-0.0022.hdf5\n",
      "16519/16519 [==============================] - 22s - loss_1: 0.0108 - loss_2: 0.0017 - val_loss_1: 0.0137 - val_loss_2: 0.0022\n",
      "Epoch 81/100\n",
      "16480/16519 [============================>.] - ETA: 0s - loss_1: 0.0107 - loss_2: 0.0017Epoch 00080: saving model to /home/bryan/clinical-video/cnn_checkpoints_O2cons/weights-80-0.0022.hdf5\n",
      "16519/16519 [==============================] - 22s - loss_1: 0.0107 - loss_2: 0.0017 - val_loss_1: 0.0138 - val_loss_2: 0.0022\n",
      "Epoch 82/100\n",
      "16480/16519 [============================>.] - ETA: 0s - loss_1: 0.0108 - loss_2: 0.0017Epoch 00081: saving model to /home/bryan/clinical-video/cnn_checkpoints_O2cons/weights-81-0.0023.hdf5\n",
      "16519/16519 [==============================] - 22s - loss_1: 0.0108 - loss_2: 0.0017 - val_loss_1: 0.0141 - val_loss_2: 0.0023\n",
      "Epoch 83/100\n",
      "16480/16519 [============================>.] - ETA: 0s - loss_1: 0.0106 - loss_2: 0.0017Epoch 00082: saving model to /home/bryan/clinical-video/cnn_checkpoints_O2cons/weights-82-0.0023.hdf5\n",
      "16519/16519 [==============================] - 22s - loss_1: 0.0106 - loss_2: 0.0017 - val_loss_1: 0.0143 - val_loss_2: 0.0023\n",
      "Epoch 84/100\n",
      "16512/16519 [============================>.] - ETA: 0s - loss_1: 0.0106 - loss_2: 0.0017Epoch 00083: saving model to /home/bryan/clinical-video/cnn_checkpoints_O2cons/weights-83-0.0021.hdf5\n",
      "16519/16519 [==============================] - 24s - loss_1: 0.0106 - loss_2: 0.0017 - val_loss_1: 0.0134 - val_loss_2: 0.0021\n",
      "Epoch 85/100\n",
      "16480/16519 [============================>.] - ETA: 0s - loss_1: 0.0105 - loss_2: 0.0017Epoch 00084: saving model to /home/bryan/clinical-video/cnn_checkpoints_O2cons/weights-84-0.0021.hdf5\n",
      "16519/16519 [==============================] - 24s - loss_1: 0.0105 - loss_2: 0.0017 - val_loss_1: 0.0134 - val_loss_2: 0.0021\n",
      "Epoch 86/100\n",
      "16512/16519 [============================>.] - ETA: 0s - loss_1: 0.0106 - loss_2: 0.0017Epoch 00085: saving model to /home/bryan/clinical-video/cnn_checkpoints_O2cons/weights-85-0.0022.hdf5\n",
      "16519/16519 [==============================] - 22s - loss_1: 0.0106 - loss_2: 0.0017 - val_loss_1: 0.0137 - val_loss_2: 0.0022\n",
      "Epoch 87/100\n",
      "16480/16519 [============================>.] - ETA: 0s - loss_1: 0.0107 - loss_2: 0.0017Epoch 00086: saving model to /home/bryan/clinical-video/cnn_checkpoints_O2cons/weights-86-0.0022.hdf5\n",
      "16519/16519 [==============================] - 22s - loss_1: 0.0107 - loss_2: 0.0017 - val_loss_1: 0.0138 - val_loss_2: 0.0022\n",
      "Epoch 88/100\n",
      "16512/16519 [============================>.] - ETA: 0s - loss_1: 0.0107 - loss_2: 0.0017Epoch 00087: saving model to /home/bryan/clinical-video/cnn_checkpoints_O2cons/weights-87-0.0024.hdf5\n",
      "16519/16519 [==============================] - 22s - loss_1: 0.0107 - loss_2: 0.0017 - val_loss_1: 0.0147 - val_loss_2: 0.0024\n",
      "Epoch 89/100\n",
      "16512/16519 [============================>.] - ETA: 0s - loss_1: 0.0106 - loss_2: 0.0017Epoch 00088: saving model to /home/bryan/clinical-video/cnn_checkpoints_O2cons/weights-88-0.0022.hdf5\n",
      "16519/16519 [==============================] - 22s - loss_1: 0.0106 - loss_2: 0.0017 - val_loss_1: 0.0138 - val_loss_2: 0.0022\n",
      "Epoch 90/100\n",
      "16512/16519 [============================>.] - ETA: 0s - loss_1: 0.0105 - loss_2: 0.0017Epoch 00089: saving model to /home/bryan/clinical-video/cnn_checkpoints_O2cons/weights-89-0.0022.hdf5\n",
      "16519/16519 [==============================] - 22s - loss_1: 0.0105 - loss_2: 0.0017 - val_loss_1: 0.0138 - val_loss_2: 0.0022\n",
      "Epoch 91/100\n",
      "16512/16519 [============================>.] - ETA: 0s - loss_1: 0.0105 - loss_2: 0.0017Epoch 00090: saving model to /home/bryan/clinical-video/cnn_checkpoints_O2cons/weights-90-0.0022.hdf5\n",
      "16519/16519 [==============================] - 22s - loss_1: 0.0105 - loss_2: 0.0017 - val_loss_1: 0.0135 - val_loss_2: 0.0022\n",
      "Epoch 92/100\n",
      "16512/16519 [============================>.] - ETA: 0s - loss_1: 0.0104 - loss_2: 0.0016Epoch 00091: saving model to /home/bryan/clinical-video/cnn_checkpoints_O2cons/weights-91-0.0022.hdf5\n",
      "16519/16519 [==============================] - 22s - loss_1: 0.0104 - loss_2: 0.0016 - val_loss_1: 0.0136 - val_loss_2: 0.0022\n",
      "Epoch 93/100\n",
      "16512/16519 [============================>.] - ETA: 0s - loss_1: 0.0104 - loss_2: 0.0016Epoch 00092: saving model to /home/bryan/clinical-video/cnn_checkpoints_O2cons/weights-92-0.0024.hdf5\n",
      "16519/16519 [==============================] - 22s - loss_1: 0.0104 - loss_2: 0.0016 - val_loss_1: 0.0150 - val_loss_2: 0.0024\n",
      "Epoch 94/100\n",
      "16512/16519 [============================>.] - ETA: 0s - loss_1: 0.0104 - loss_2: 0.0016Epoch 00093: saving model to /home/bryan/clinical-video/cnn_checkpoints_O2cons/weights-93-0.0022.hdf5\n",
      "16519/16519 [==============================] - 22s - loss_1: 0.0104 - loss_2: 0.0016 - val_loss_1: 0.0137 - val_loss_2: 0.0022\n",
      "Epoch 95/100\n",
      "16480/16519 [============================>.] - ETA: 0s - loss_1: 0.0103 - loss_2: 0.0016Epoch 00094: saving model to /home/bryan/clinical-video/cnn_checkpoints_O2cons/weights-94-0.0022.hdf5\n",
      "16519/16519 [==============================] - 21s - loss_1: 0.0103 - loss_2: 0.0016 - val_loss_1: 0.0138 - val_loss_2: 0.0022\n",
      "Epoch 96/100\n",
      "16480/16519 [============================>.] - ETA: 0s - loss_1: 0.0104 - loss_2: 0.0016Epoch 00095: saving model to /home/bryan/clinical-video/cnn_checkpoints_O2cons/weights-95-0.0023.hdf5\n",
      "16519/16519 [==============================] - 22s - loss_1: 0.0104 - loss_2: 0.0016 - val_loss_1: 0.0144 - val_loss_2: 0.0023\n",
      "Epoch 97/100\n",
      "16480/16519 [============================>.] - ETA: 0s - loss_1: 0.0103 - loss_2: 0.0016Epoch 00096: saving model to /home/bryan/clinical-video/cnn_checkpoints_O2cons/weights-96-0.0023.hdf5\n",
      "16519/16519 [==============================] - 21s - loss_1: 0.0103 - loss_2: 0.0016 - val_loss_1: 0.0141 - val_loss_2: 0.0023\n",
      "Epoch 98/100\n",
      "16480/16519 [============================>.] - ETA: 0s - loss_1: 0.0103 - loss_2: 0.0016Epoch 00097: saving model to /home/bryan/clinical-video/cnn_checkpoints_O2cons/weights-97-0.0023.hdf5\n",
      "16519/16519 [==============================] - 23s - loss_1: 0.0103 - loss_2: 0.0016 - val_loss_1: 0.0143 - val_loss_2: 0.0023\n",
      "Epoch 99/100\n",
      "16480/16519 [============================>.] - ETA: 0s - loss_1: 0.0103 - loss_2: 0.0016Epoch 00098: saving model to /home/bryan/clinical-video/cnn_checkpoints_O2cons/weights-98-0.0023.hdf5\n",
      "16519/16519 [==============================] - 22s - loss_1: 0.0103 - loss_2: 0.0016 - val_loss_1: 0.0144 - val_loss_2: 0.0023\n",
      "Epoch 100/100\n",
      "16480/16519 [============================>.] - ETA: 0s - loss_1: 0.0103 - loss_2: 0.0016Epoch 00099: saving model to /home/bryan/clinical-video/cnn_checkpoints_O2cons/weights-99-0.0022.hdf5\n"
     ]
    },
    {
     "name": "stdout",
     "output_type": "stream",
     "text": [
      "16519/16519 [==============================] - 22s - loss_1: 0.0103 - loss_2: 0.0016 - val_loss_1: 0.0137 - val_loss_2: 0.0022\n"
     ]
    }
   ],
   "source": [
    "from keras.callbacks import LearningRateScheduler\n",
    "\n",
    "from keras.callbacks import ModelCheckpoint\n",
    "from keras.callbacks import TerminateOnNaN\n",
    "\n",
    "train_model = True\n",
    "\n",
    "if not os.path.exists(checkpoint_folder):\n",
    "    os.makedirs(checkpoint_folder)\n",
    "\n",
    "filepath=checkpoint_folder+\"/weights-{epoch:02d}-{val_loss_2:.4f}.hdf5\"\n",
    "if train_model:\n",
    "\n",
    "    opt = RMSprop(lr=0.0,rho=0.9, epsilon=1e-08, decay=0.0)\n",
    "    model.compile(loss=mse_opt,metrics=[mse_metric],\n",
    "                  optimizer=opt)\n",
    "\n",
    "\n",
    "\n",
    "    checkpoint = \\\n",
    "        ModelCheckpoint(filepath, monitor='val_loss_2', verbose=1, save_best_only=False, save_weights_only=False, mode='auto', period=1)\n",
    "\n",
    "    lr = LearningRateScheduler(step_decay(initial_lrate,epochs_drop,drop_factor))\n",
    "\n",
    "    history = model.fit(X_train, y_train_scaled,callbacks=[checkpoint,lr,TerminateOnNaN()],\n",
    "              validation_data=(X_validation,y_validation_scaled),\n",
    "              batch_size=32, epochs=n_epochs,shuffle=True)"
   ]
  },
  {
   "cell_type": "code",
   "execution_count": 30,
   "metadata": {
    "collapsed": true
   },
   "outputs": [],
   "source": [
    "import statsmodels.api as sm"
   ]
  },
  {
   "cell_type": "code",
   "execution_count": 31,
   "metadata": {
    "collapsed": true
   },
   "outputs": [],
   "source": [
    "def undo_scaling(y,target_range,target_min):\n",
    "    return y*target_range+target_min"
   ]
  },
  {
   "cell_type": "code",
   "execution_count": 32,
   "metadata": {
    "collapsed": true
   },
   "outputs": [],
   "source": [
    "weight_files = os.listdir(checkpoint_folder)\n",
    "weight_files_df = pd.DataFrame(weight_files,columns=['filename'])\n",
    "weight_files_df['num'] = weight_files_df['filename'].apply(lambda x: int(x.split('-')[1]))\n",
    "weight_files_df.sort_values(by='num',ascending=True,inplace=True)"
   ]
  },
  {
   "cell_type": "code",
   "execution_count": 33,
   "metadata": {
    "collapsed": true
   },
   "outputs": [],
   "source": [
    "def predict_and_aggregate_singlevar(y,X,ids,model,target_col):\n",
    "    df = pd.DataFrame(y,columns=[target_col])\n",
    "    target_col_pred = target_col + \"_pred\"\n",
    "    videoids = [t[0] for t in processed_video_segments if t[0] in ids]\n",
    "    df[\"videoid\"] = np.array(videoids)\n",
    "    preds = model.predict(X)\n",
    "    df[target_col_pred] = undo_scaling(preds[:,0],target_range,target_min)\n",
    "    df[\"count\"] = 1\n",
    "    df = df.groupby(['videoid'],as_index=False).agg({target_col_pred:np.mean,'count':np.sum,target_col:np.mean})\n",
    "    df['ones'] = 1\n",
    "    return df"
   ]
  },
  {
   "cell_type": "code",
   "execution_count": 42,
   "metadata": {
    "collapsed": true
   },
   "outputs": [],
   "source": [
    "video_ids = [t[0] for t in processed_video_segments if t[0] in all_ids]\n",
    "predictions_df = pd.DataFrame(video_ids,columns=['videoid'])\n",
    "predictions_df[target_col] = y\n",
    "predictions_df = predictions_df.merge(right=datasplit_df[['videoid','dataset']],on=['videoid'],how='left')"
   ]
  },
  {
   "cell_type": "code",
   "execution_count": 43,
   "metadata": {},
   "outputs": [
    {
     "name": "stdout",
     "output_type": "stream",
     "text": [
      "weights-00-0.0126.hdf5\n",
      "weights-01-0.0036.hdf5\n",
      "weights-02-0.0034.hdf5\n",
      "weights-03-0.0036.hdf5\n",
      "weights-04-0.0023.hdf5\n",
      "weights-05-0.0028.hdf5\n",
      "weights-06-0.0036.hdf5\n",
      "weights-07-0.0025.hdf5\n",
      "weights-08-0.0027.hdf5\n",
      "weights-09-0.0028.hdf5\n",
      "weights-10-0.0021.hdf5\n",
      "weights-11-0.0021.hdf5\n",
      "weights-12-0.0022.hdf5\n",
      "weights-13-0.0020.hdf5\n",
      "weights-14-0.0020.hdf5\n",
      "weights-15-0.0107.hdf5\n",
      "weights-16-0.0025.hdf5\n",
      "weights-17-0.0026.hdf5\n",
      "weights-18-0.0027.hdf5\n",
      "weights-19-0.0026.hdf5\n",
      "weights-20-0.0025.hdf5\n",
      "weights-21-0.0022.hdf5\n",
      "weights-22-0.0024.hdf5\n",
      "weights-23-0.0024.hdf5\n",
      "weights-24-0.0021.hdf5\n",
      "weights-25-0.0021.hdf5\n",
      "weights-26-0.0027.hdf5\n",
      "weights-27-0.0020.hdf5\n",
      "weights-28-0.0021.hdf5\n",
      "weights-29-0.0025.hdf5\n",
      "weights-30-0.0022.hdf5\n",
      "weights-31-0.0024.hdf5\n",
      "weights-32-0.0021.hdf5\n",
      "weights-33-0.0023.hdf5\n",
      "weights-34-0.0020.hdf5\n",
      "weights-35-0.0027.hdf5\n",
      "weights-36-0.0021.hdf5\n",
      "weights-37-0.0023.hdf5\n",
      "weights-38-0.0024.hdf5\n",
      "weights-39-0.0021.hdf5\n",
      "weights-40-0.0023.hdf5\n",
      "weights-41-0.0022.hdf5\n",
      "weights-42-0.0022.hdf5\n",
      "weights-43-0.0026.hdf5\n",
      "weights-44-0.0022.hdf5\n",
      "weights-45-0.0025.hdf5\n",
      "weights-46-0.0023.hdf5\n",
      "weights-47-0.0022.hdf5\n",
      "weights-48-0.0021.hdf5\n",
      "weights-49-0.0020.hdf5\n",
      "weights-50-0.0021.hdf5\n",
      "weights-51-0.0021.hdf5\n",
      "weights-52-0.0022.hdf5\n",
      "weights-53-0.0021.hdf5\n",
      "weights-54-0.0023.hdf5\n",
      "weights-55-0.0021.hdf5\n",
      "weights-56-0.0024.hdf5\n",
      "weights-57-0.0022.hdf5\n",
      "weights-58-0.0022.hdf5\n",
      "weights-59-0.0024.hdf5\n",
      "weights-60-0.0022.hdf5\n",
      "weights-61-0.0022.hdf5\n",
      "weights-62-0.0024.hdf5\n",
      "weights-63-0.0022.hdf5\n",
      "weights-64-0.0022.hdf5\n",
      "weights-65-0.0021.hdf5\n",
      "weights-66-0.0020.hdf5\n",
      "weights-67-0.0021.hdf5\n",
      "weights-68-0.0022.hdf5\n",
      "weights-69-0.0023.hdf5\n",
      "weights-70-0.0022.hdf5\n",
      "weights-71-0.0023.hdf5\n",
      "weights-72-0.0022.hdf5\n",
      "weights-73-0.0022.hdf5\n",
      "weights-74-0.0022.hdf5\n",
      "weights-75-0.0022.hdf5\n",
      "weights-76-0.0023.hdf5\n",
      "weights-77-0.0022.hdf5\n",
      "weights-78-0.0021.hdf5\n",
      "weights-79-0.0022.hdf5\n",
      "weights-80-0.0022.hdf5\n",
      "weights-81-0.0023.hdf5\n",
      "weights-82-0.0023.hdf5\n",
      "weights-83-0.0021.hdf5\n",
      "weights-84-0.0021.hdf5\n",
      "weights-85-0.0022.hdf5\n",
      "weights-86-0.0022.hdf5\n",
      "weights-87-0.0024.hdf5\n",
      "weights-88-0.0022.hdf5\n",
      "weights-89-0.0022.hdf5\n",
      "weights-90-0.0022.hdf5\n",
      "weights-91-0.0022.hdf5\n",
      "weights-92-0.0024.hdf5\n",
      "weights-93-0.0022.hdf5\n",
      "weights-94-0.0022.hdf5\n",
      "weights-95-0.0023.hdf5\n",
      "weights-96-0.0023.hdf5\n",
      "weights-97-0.0023.hdf5\n",
      "weights-98-0.0023.hdf5\n",
      "weights-99-0.0022.hdf5\n"
     ]
    }
   ],
   "source": [
    "for i in range(0,len(weight_files_df)):\n",
    "    weight_file = weight_files_df['filename'].iloc[i]\n",
    "    print(weight_file)\n",
    "    model.load_weights(checkpoint_folder + \"/%s\" % (weight_file))\n",
    "    preds = model.predict(X)\n",
    "    predictions_df[\"%s_pred_%s\" % (target_col,i)] = undo_scaling(preds[:,0],target_range,target_min)"
   ]
  },
  {
   "cell_type": "code",
   "execution_count": 46,
   "metadata": {
    "collapsed": true
   },
   "outputs": [],
   "source": [
    "predictions_df.groupby(['videoid','dataset'],as_index=False).mean().to_csv(\"./predictions/cnn_%s_predictions_all_epochs.csv\" % (target_col),index=False)"
   ]
  }
 ],
 "metadata": {
  "kernelspec": {
   "display_name": "Python 2",
   "language": "python",
   "name": "python2"
  },
  "language_info": {
   "codemirror_mode": {
    "name": "ipython",
    "version": 2
   },
   "file_extension": ".py",
   "mimetype": "text/x-python",
   "name": "python",
   "nbconvert_exporter": "python",
   "pygments_lexer": "ipython2",
   "version": "2.7.13"
  }
 },
 "nbformat": 4,
 "nbformat_minor": 2
}
