{
 "cells": [
  {
   "cell_type": "code",
   "execution_count": null,
   "metadata": {},
   "outputs": [],
   "source": [
    "#data analysis of the predictions\n",
    "import numpy as np\n",
    "import os\n",
    "import matplotlib.pyplot as plt\n",
    "import pandas as pd\n",
    "import sys\n",
    "from statsmodels.regression.linear_model import OLS\n",
    "from statsmodels.discrete.discrete_model import Logit\n",
    "from statsmodels.tools import add_constant\n",
    "import datetime\n",
    "from sklearn.metrics import roc_auc_score\n",
    "from sklearn.metrics import roc_curve\n",
    "%matplotlib inline"
   ]
  },
  {
   "cell_type": "code",
   "execution_count": null,
   "metadata": {},
   "outputs": [],
   "source": [
    "alldata_processed =\\\n",
    "    pd.read_csv(\"./data/processed/alldata_processed_with_dev_residual.csv\" )\n",
    "alldata_processed['videoid'] = alldata_processed['videoid'].apply(lambda x: int(x))\n",
    "alldata_processed['Event_Date'] = pd.to_datetime(alldata_processed['Event_Date'],format='%Y-%m-%d')"
   ]
  },
  {
   "cell_type": "code",
   "execution_count": null,
   "metadata": {},
   "outputs": [],
   "source": [
    "#RR AUCROC\n",
    "df = alldata_processed.copy()"
   ]
  },
  {
   "cell_type": "code",
   "execution_count": null,
   "metadata": {},
   "outputs": [],
   "source": [
    "predictions = pd.read_csv(\"./data/predictions/rr_SEMLS_dev_residual_predictions.csv\",dtype={'videoid':int})[['videoid','side','SEMLS_dev_residual_pred']]\n",
    "df = df.merge(right=predictions,on=['videoid','side'],how='left')\n",
    "Xcols = [\"mass_interpolated\",\"mass_interpolated2\",\"age_truncated2\",\"age_truncated\",\n",
    "         \"height_interpolated\",\"height_interpolated2\",\n",
    "         'SEMLS_dev_residual_pred',\"isPostSurgGaitVisit\",\"const\"]\n",
    "\n",
    "X_train = df[df['dataset'] == 'train'][Xcols]\n",
    "y_train = df[df['dataset'] == 'train'][\"SEMLS\"]\n",
    "X = df[Xcols]\n",
    "y = df[\"SEMLS\"]\n",
    "\n",
    "lm = Logit(y_train,X_train).fit()\n",
    "\n",
    "df['predicted_SEMLS_rr'] = lm.predict(X)"
   ]
  },
  {
   "cell_type": "code",
   "execution_count": null,
   "metadata": {},
   "outputs": [],
   "source": [
    "#RF AUCROC\n",
    "predictions = pd.read_csv(\"./data/predictions/rf_SEMLS_dev_residual_predictions.csv\",dtype={'videoid':int})[['videoid','side','SEMLS_dev_residual_pred']]\n",
    "df = df.drop('SEMLS_dev_residual_pred',axis=1)\n",
    "df = df.merge(right=predictions,on=['videoid','side'],how='left')\n",
    "Xcols = [\"mass_interpolated\",\"mass_interpolated2\",\"age_truncated2\",\"age_truncated\",\n",
    "         \"height_interpolated\",\"height_interpolated2\",\n",
    "         'SEMLS_dev_residual_pred',\"isPostSurgGaitVisit\",\"const\"]\n",
    "\n",
    "X_train = df[df['dataset'] == 'train'][Xcols]\n",
    "y_train = df[df['dataset'] == 'train'][\"SEMLS\"]\n",
    "X = df[Xcols]\n",
    "y = df[\"SEMLS\"]\n",
    "\n",
    "lm = Logit(y_train,X_train).fit()\n",
    "\n",
    "df['predicted_SEMLS_rf'] = lm.predict(X)"
   ]
  },
  {
   "cell_type": "code",
   "execution_count": null,
   "metadata": {},
   "outputs": [],
   "source": [
    "#CNN AUCROC\n",
    "predictions = pd.read_csv(\"./data/predictions/cnn_SEMLS_dev_residual_predictions_best_epoch.csv\",dtype={'videoid':int})[['videoid','side','SEMLS_dev_residual_pred_corrected']]\n",
    "df = df.drop('SEMLS_dev_residual_pred',axis=1)\n",
    "df = df.merge(right=predictions,on=['videoid','side'],how='left')\n",
    "\n",
    "Xcols = [\"mass_interpolated\",\"mass_interpolated2\",\"age_truncated2\",\"age_truncated\",\n",
    "         \"height_interpolated\",\"height_interpolated2\",\n",
    "         'SEMLS_dev_residual_pred_corrected',\"isPostSurgGaitVisit\",\"const\"]\n",
    "\n",
    "X_train = df[df['dataset'] == 'train'][Xcols]\n",
    "y_train = df[df['dataset'] == 'train'][\"SEMLS\"]\n",
    "X = df[Xcols]\n",
    "y = df[\"SEMLS\"]\n",
    "\n",
    "lm = Logit(y_train,X_train).fit()\n",
    "\n",
    "df['predicted_SEMLS_CNN'] = lm.predict(X)\n"
   ]
  },
  {
   "cell_type": "code",
   "execution_count": null,
   "metadata": {},
   "outputs": [],
   "source": [
    "#CNN AUCROC\n",
    "Xcols = [\"mass_interpolated\",\"mass_interpolated2\",\"age_truncated2\",\"age_truncated\",\n",
    "         \"height_interpolated\",\"height_interpolated2\",\n",
    "         'GDI',\"isPostSurgGaitVisit\",\"const\"]\n",
    "\n",
    "X_train = df[df['dataset'] == 'train'][Xcols]\n",
    "y_train = df[df['dataset'] == 'train'][\"SEMLS\"]\n",
    "X = df[Xcols]\n",
    "y = df[\"SEMLS\"]\n",
    "\n",
    "lm = Logit(y_train,X_train).fit()\n",
    "\n",
    "df['predicted_SEMLS_GDI'] = lm.predict(X)\n"
   ]
  },
  {
   "cell_type": "code",
   "execution_count": null,
   "metadata": {},
   "outputs": [],
   "source": [
    "fpr_cnn, tpr_cnn, _ = roc_curve(df[df['dataset'] == 'test']['SEMLS'],\n",
    "          df[df['dataset'] == 'test']['predicted_SEMLS_CNN'])\n",
    "\n",
    "fpr_rf, tpr_rf, _ = roc_curve(df[df['dataset'] == 'test']['SEMLS'],\n",
    "          df[df['dataset'] == 'test']['predicted_SEMLS_rf'])\n",
    "\n",
    "fpr_rr, tpr_rr, _ = roc_curve(df[df['dataset'] == 'test']['SEMLS'],\n",
    "          df[df['dataset'] == 'test']['predicted_SEMLS_rr'])\n",
    "\n",
    "fpr_gdi, tpr_gdi, _ = roc_curve(df[df['dataset'] == 'test']['SEMLS'],\n",
    "          df[df['dataset'] == 'test']['predicted_SEMLS_GDI'])"
   ]
  },
  {
   "cell_type": "code",
   "execution_count": null,
   "metadata": {},
   "outputs": [],
   "source": [
    "plt.plot(fpr_cnn,tpr_cnn,label=\"CNN (0.716)\")\n",
    "plt.plot(fpr_rf,tpr_rf,label=\"Random Forest (0.663)\")\n",
    "plt.plot(fpr_rr,tpr_rr,label=\"Ridge Regression (0.657)\")\n",
    "plt.plot(fpr_gdi,tpr_gdi,label=\"Using GDI (0.684)\")\n",
    "plt.legend(loc=4)\n",
    "plt.title(\"SEMLS Prediction: ROC Curve\")\n",
    "plt.xlabel(\"False Positive Rate\")\n",
    "plt.ylabel(\"True Positive Rate\")\n",
    "plt.savefig(\"figures/semls_performance.png\",dpi=600)"
   ]
  },
  {
   "cell_type": "code",
   "execution_count": null,
   "metadata": {},
   "outputs": [],
   "source": [
    "print(roc_auc_score(df[df['dataset'] == 'test']['SEMLS'],\n",
    "              df[df['dataset'] == 'test']['predicted_SEMLS_CNN']),\"CNN: test ROC\")\n",
    "\n",
    "print(roc_auc_score(df[df['dataset'] == 'test']['SEMLS'],\n",
    "              df[df['dataset'] == 'test']['predicted_SEMLS_rf']),\"RF: test ROC\")\n",
    "\n",
    "print(roc_auc_score(df[df['dataset'] == 'test']['SEMLS'],\n",
    "              df[df['dataset'] == 'test']['predicted_SEMLS_rr']),\"RR: test ROC\")\n",
    "\n",
    "print(roc_auc_score(df[df['dataset'] == 'test']['SEMLS'],\n",
    "              df[df['dataset'] == 'test']['predicted_SEMLS_GDI']),\"Using GDI: test ROC\")\n"
   ]
  }
 ],
 "metadata": {
  "kernelspec": {
   "display_name": "Python 3",
   "language": "python",
   "name": "python3"
  },
  "language_info": {
   "codemirror_mode": {
    "name": "ipython",
    "version": 3
   },
   "file_extension": ".py",
   "mimetype": "text/x-python",
   "name": "python",
   "nbconvert_exporter": "python",
   "pygments_lexer": "ipython3",
   "version": "3.8.2"
  }
 },
 "nbformat": 4,
 "nbformat_minor": 2
}
