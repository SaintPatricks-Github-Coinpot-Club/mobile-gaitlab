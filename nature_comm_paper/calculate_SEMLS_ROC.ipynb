{
 "cells": [
  {
   "cell_type": "code",
   "execution_count": 19,
   "metadata": {
    "collapsed": true
   },
   "outputs": [],
   "source": [
    "#data analysis of the predictions\n",
    "import numpy as np\n",
    "import os\n",
    "import matplotlib.pyplot as plt\n",
    "import pandas as pd\n",
    "import sys\n",
    "from statsmodels.regression.linear_model import OLS\n",
    "from statsmodels.discrete.discrete_model import Logit\n",
    "from statsmodels.tools import add_constant\n",
    "import datetime\n",
    "from sklearn.metrics import roc_auc_score\n",
    "%matplotlib inline"
   ]
  },
  {
   "cell_type": "code",
   "execution_count": 27,
   "metadata": {
    "collapsed": true
   },
   "outputs": [],
   "source": [
    "alldata_processed =\\\n",
    "    pd.read_csv(\"data/annotations/alldata_processed_with_dev_residual.csv\" )\n",
    "alldata_processed['videoid'] = alldata_processed['videoid'].apply(lambda x: int(x))\n",
    "alldata_processed['Event_Date'] = pd.to_datetime(alldata_processed['Event_Date'],format='%Y-%m-%d')"
   ]
  },
  {
   "cell_type": "code",
   "execution_count": 39,
   "metadata": {
    "collapsed": true
   },
   "outputs": [],
   "source": [
    "#RR AUCROC\n",
    "df = alldata_processed.copy()"
   ]
  },
  {
   "cell_type": "code",
   "execution_count": 41,
   "metadata": {},
   "outputs": [
    {
     "name": "stdout",
     "output_type": "stream",
     "text": [
      "Optimization terminated successfully.\n",
      "         Current function value: 0.414854\n",
      "         Iterations 7\n"
     ]
    }
   ],
   "source": [
    "predictions = pd.read_csv(\"predictions/rr_SEMLS_dev_residual_predictions.csv\",dtype={'videoid':int})[['videoid','side','SEMLS_dev_residual_pred']]\n",
    "df = df.merge(right=predictions,on=['videoid','side'],how='left')\n",
    "Xcols = [\"mass_interpolated\",\"mass_interpolated2\",\"age_truncated2\",\"age_truncated\",\n",
    "         \"height_interpolated\",\"height_interpolated2\",\n",
    "         'SEMLS_dev_residual_pred',\"isPostSurgGaitVisit\",\"const\"]\n",
    "\n",
    "X_train = df[df['dataset'] == 'train'][Xcols]\n",
    "y_train = df[df['dataset'] == 'train'][\"SEMLS\"]\n",
    "X = df[Xcols]\n",
    "y = df[\"SEMLS\"]\n",
    "\n",
    "lm = Logit(y_train,X_train).fit()\n",
    "\n",
    "df['predicted_SEMLS_rr'] = lm.predict(X)"
   ]
  },
  {
   "cell_type": "code",
   "execution_count": 45,
   "metadata": {},
   "outputs": [
    {
     "name": "stdout",
     "output_type": "stream",
     "text": [
      "Optimization terminated successfully.\n",
      "         Current function value: 0.007205\n",
      "         Iterations 15\n"
     ]
    }
   ],
   "source": [
    "#RF AUCROC\n",
    "predictions = pd.read_csv(\"predictions/rf_SEMLS_dev_residual_predictions.csv\",dtype={'videoid':int})[['videoid','side','SEMLS_dev_residual_pred']]\n",
    "df = df.drop('SEMLS_dev_residual_pred',axis=1)\n",
    "df = df.merge(right=predictions,on=['videoid','side'],how='left')\n",
    "Xcols = [\"mass_interpolated\",\"mass_interpolated2\",\"age_truncated2\",\"age_truncated\",\n",
    "         \"height_interpolated\",\"height_interpolated2\",\n",
    "         'SEMLS_dev_residual_pred',\"isPostSurgGaitVisit\",\"const\"]\n",
    "\n",
    "X_train = df[df['dataset'] == 'train'][Xcols]\n",
    "y_train = df[df['dataset'] == 'train'][\"SEMLS\"]\n",
    "X = df[Xcols]\n",
    "y = df[\"SEMLS\"]\n",
    "\n",
    "lm = Logit(y_train,X_train).fit()\n",
    "\n",
    "df['predicted_SEMLS_rf'] = lm.predict(X)"
   ]
  },
  {
   "cell_type": "code",
   "execution_count": 46,
   "metadata": {},
   "outputs": [
    {
     "name": "stdout",
     "output_type": "stream",
     "text": [
      "Optimization terminated successfully.\n",
      "         Current function value: 0.389973\n",
      "         Iterations 7\n"
     ]
    }
   ],
   "source": [
    "#CNN AUCROC\n",
    "predictions = pd.read_csv(\"predictions/cnn_SEMLS_dev_residual_predictions_best_epoch.csv\",dtype={'videoid':int})[['videoid','side','SEMLS_dev_residual_pred_corrected']]\n",
    "df = df.drop('SEMLS_dev_residual_pred',axis=1)\n",
    "df = df.merge(right=predictions,on=['videoid','side'],how='left')\n",
    "\n",
    "Xcols = [\"mass_interpolated\",\"mass_interpolated2\",\"age_truncated2\",\"age_truncated\",\n",
    "         \"height_interpolated\",\"height_interpolated2\",\n",
    "         'SEMLS_dev_residual_pred_corrected',\"isPostSurgGaitVisit\",\"const\"]\n",
    "\n",
    "X_train = df[df['dataset'] == 'train'][Xcols]\n",
    "y_train = df[df['dataset'] == 'train'][\"SEMLS\"]\n",
    "X = df[Xcols]\n",
    "y = df[\"SEMLS\"]\n",
    "\n",
    "lm = Logit(y_train,X_train).fit()\n",
    "\n",
    "df['predicted_SEMLS_CNN'] = lm.predict(X)\n"
   ]
  },
  {
   "cell_type": "code",
   "execution_count": 61,
   "metadata": {},
   "outputs": [
    {
     "name": "stdout",
     "output_type": "stream",
     "text": [
      "Optimization terminated successfully.\n",
      "         Current function value: 0.406605\n",
      "         Iterations 7\n"
     ]
    }
   ],
   "source": [
    "#CNN AUCROC\n",
    "Xcols = [\"mass_interpolated\",\"mass_interpolated2\",\"age_truncated2\",\"age_truncated\",\n",
    "         \"height_interpolated\",\"height_interpolated2\",\n",
    "         'GDI',\"isPostSurgGaitVisit\",\"const\"]\n",
    "\n",
    "X_train = df[df['dataset'] == 'train'][Xcols]\n",
    "y_train = df[df['dataset'] == 'train'][\"SEMLS\"]\n",
    "X = df[Xcols]\n",
    "y = df[\"SEMLS\"]\n",
    "\n",
    "lm = Logit(y_train,X_train).fit()\n",
    "\n",
    "df['predicted_SEMLS_GDI'] = lm.predict(X)\n"
   ]
  },
  {
   "cell_type": "code",
   "execution_count": 47,
   "metadata": {
    "collapsed": true
   },
   "outputs": [],
   "source": [
    "from sklearn.metrics import roc_curve"
   ]
  },
  {
   "cell_type": "code",
   "execution_count": 62,
   "metadata": {},
   "outputs": [],
   "source": [
    "fpr_cnn, tpr_cnn, _ = roc_curve(df[df['dataset'] == 'test']['SEMLS'],\n",
    "          df[df['dataset'] == 'test']['predicted_SEMLS_CNN'])\n",
    "\n",
    "fpr_rf, tpr_rf, _ = roc_curve(df[df['dataset'] == 'test']['SEMLS'],\n",
    "          df[df['dataset'] == 'test']['predicted_SEMLS_rf'])\n",
    "\n",
    "fpr_rr, tpr_rr, _ = roc_curve(df[df['dataset'] == 'test']['SEMLS'],\n",
    "          df[df['dataset'] == 'test']['predicted_SEMLS_rr'])\n",
    "\n",
    "fpr_gdi, tpr_gdi, _ = roc_curve(df[df['dataset'] == 'test']['SEMLS'],\n",
    "          df[df['dataset'] == 'test']['predicted_SEMLS_GDI'])"
   ]
  },
  {
   "cell_type": "code",
   "execution_count": 69,
   "metadata": {},
   "outputs": [
    {
     "data": {
      "image/png": "[encoded data removed]",
      "text/plain": [
       "<matplotlib.figure.Figure at 0x7f6fd8282890>"
      ]
     },
     "metadata": {},
     "output_type": "display_data"
    }
   ],
   "source": [
    "plt.plot(fpr_cnn,tpr_cnn,label=\"CNN (0.716)\")\n",
    "plt.plot(fpr_rf,tpr_rf,label=\"Random Forest (0.663)\")\n",
    "plt.plot(fpr_rr,tpr_rr,label=\"Ridge Regression (0.657)\")\n",
    "plt.plot(fpr_gdi,tpr_gdi,label=\"Using GDI (0.684)\")\n",
    "plt.legend(loc=4)\n",
    "plt.title(\"SEMLS Prediction: ROC Curve\")\n",
    "plt.xlabel(\"False Positive Rate\")\n",
    "plt.ylabel(\"True Positive Rate\")\n",
    "plt.savefig(\"figures/semls_performance.png\",dpi=600)"
   ]
  },
  {
   "cell_type": "code",
   "execution_count": 68,
   "metadata": {},
   "outputs": [
    {
     "name": "stdout",
     "output_type": "stream",
     "text": [
      "(0.71631488648605512, 'CNN: test ROC')\n",
      "(0.6631688145872402, 'RF: test ROC')\n",
      "(0.65742329330088178, 'RR: test ROC')\n",
      "(0.68395642979691174, 'Using GDI: test ROC')\n"
     ]
    }
   ],
   "source": [
    "print(roc_auc_score(df[df['dataset'] == 'test']['SEMLS'],\n",
    "              df[df['dataset'] == 'test']['predicted_SEMLS_CNN']),\"CNN: test ROC\")\n",
    "\n",
    "print(roc_auc_score(df[df['dataset'] == 'test']['SEMLS'],\n",
    "              df[df['dataset'] == 'test']['predicted_SEMLS_rf']),\"RF: test ROC\")\n",
    "\n",
    "print(roc_auc_score(df[df['dataset'] == 'test']['SEMLS'],\n",
    "              df[df['dataset'] == 'test']['predicted_SEMLS_rr']),\"RR: test ROC\")\n",
    "\n",
    "print(roc_auc_score(df[df['dataset'] == 'test']['SEMLS'],\n",
    "              df[df['dataset'] == 'test']['predicted_SEMLS_GDI']),\"Using GDI: test ROC\")\n"
   ]
  },
  {
   "cell_type": "code",
   "execution_count": null,
   "metadata": {
    "collapsed": true
   },
   "outputs": [],
   "source": []
  }
 ],
 "metadata": {
  "kernelspec": {
   "display_name": "Python 2",
   "language": "python",
   "name": "python2"
  },
  "language_info": {
   "codemirror_mode": {
    "name": "ipython",
    "version": 2
   },
   "file_extension": ".py",
   "mimetype": "text/x-python",
   "name": "python",
   "nbconvert_exporter": "python",
   "pygments_lexer": "ipython2",
   "version": "2.7.13"
  }
 },
 "nbformat": 4,
 "nbformat_minor": 2
}
