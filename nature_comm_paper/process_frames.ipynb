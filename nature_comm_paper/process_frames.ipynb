{
 "cells": [
  {
   "cell_type": "markdown",
   "metadata": {},
   "source": [
    "This program loads the json files, extracts the person's data from the left side of the \n",
    "screen (since the videos are split screen) and then saves the data as a csv file with\n",
    "header. To save space, it finds the last row for which there is at least one non-null point, and drops all the remaining rows"
   ]
  },
  {
   "cell_type": "code",
   "execution_count": null,
   "metadata": {
    "collapsed": true
   },
   "outputs": [],
   "source": [
    "import numpy as np\n",
    "import pandas as pd\n",
    "import os\n",
    "import json"
   ]
  },
  {
   "cell_type": "code",
   "execution_count": null,
   "metadata": {
    "collapsed": true
   },
   "outputs": [],
   "source": [
    "JSON_DIR = './data/output-feet/'"
   ]
  },
  {
   "cell_type": "code",
   "execution_count": null,
   "metadata": {
    "collapsed": true
   },
   "outputs": [],
   "source": [
    "alldata_processed = pd.read_csv(\"./data/annotations/alldata_processed.csv\")\n",
    "video_ids = set(alldata_processed['videoid'])"
   ]
  },
  {
   "cell_type": "code",
   "execution_count": null,
   "metadata": {
    "collapsed": true
   },
   "outputs": [],
   "source": [
    "def convert_json2csv(video_id,json_dir):\n",
    "    resL = np.zeros((1500,75))\n",
    "    resL[:] = np.nan\n",
    "    for frame in range(1,1500):\n",
    "        videoid_str = '%s-processed' % (video_id)\n",
    "        test_image_json = '%s%s/%s_%s_keypoints.json' %\\\n",
    "            (json_dir, videoid_str, videoid_str,str(frame).zfill(12))\n",
    "\n",
    "        if not os.path.isfile(test_image_json):\n",
    "            break\n",
    "        with open(test_image_json) as data_file:  \n",
    "            data = json.load(data_file)\n",
    "\n",
    "        for person in data['people']:\n",
    "            keypoints = person['pose_keypoints_2d']\n",
    "            xcoords = [keypoints[i] for i in range(len(keypoints)) if i % 3 == 0]\n",
    "            counter = 0\n",
    "            if np.max(xcoords) < 320:\n",
    "                if(counter > 0):\n",
    "                    print(\"duplicate person on left half of video %s\") % video_id\n",
    "                    print(video_id)\n",
    "                counter += 1\n",
    "                resL[frame-1,:] = keypoints\n",
    "\n",
    "    #we can save space by dropping rows after the last row that isn't all nan\n",
    "    check = np.apply_along_axis(lambda x: np.any(~np.isnan(x)),1,resL)\n",
    "    for i in range(len(check)-1,-1,-1):\n",
    "        if check[i]:\n",
    "            break\n",
    "    return resL[:i+1],resR[:i+1]"
   ]
  },
  {
   "cell_type": "code",
   "execution_count": null,
   "metadata": {
    "collapsed": true
   },
   "outputs": [],
   "source": [
    "existing_csvs = os.listdir(\"./data/video_csvs/\")\n",
    "existing_csvs = [e.split('_')[0] for e in existing_csvs]"
   ]
  },
  {
   "cell_type": "code",
   "execution_count": null,
   "metadata": {
    "collapsed": true
   },
   "outputs": [],
   "source": [
    "for i,video_id in enumerate(video_ids):\n",
    "    if(i % 100 == 0):\n",
    "        print(\"%.2f percent done\") % (i*100./len(video_ids))\n",
    "    if str(video_id) not in existing_csvs:\n",
    "        try: \n",
    "            resL,resR = convert_json2csv(video_id,JSON_DIR)\n",
    "        except:\n",
    "            continue\n",
    "        save_string_L = '%s/video_csvs/%s.csv' % ('./data',video_id)\n",
    "        np.savetxt(save_string_L, resL, delimiter=',')"
   ]
  }
 ],
 "metadata": {
  "kernelspec": {
   "display_name": "Python 2",
   "language": "python",
   "name": "python2"
  },
  "language_info": {
   "codemirror_mode": {
    "name": "ipython",
    "version": 2
   },
   "file_extension": ".py",
   "mimetype": "text/x-python",
   "name": "python",
   "nbconvert_exporter": "python",
   "pygments_lexer": "ipython2",
   "version": "2.7.13"
  }
 },
 "nbformat": 4,
 "nbformat_minor": 2
}
