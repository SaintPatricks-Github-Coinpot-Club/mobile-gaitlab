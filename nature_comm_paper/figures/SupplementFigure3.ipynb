{
 "cells": [
  {
   "cell_type": "code",
   "execution_count": null,
   "metadata": {},
   "outputs": [],
   "source": [
    "import scipy\n",
    "import pandas as pd\n",
    "import matplotlib.pyplot as plt\n",
    "import numpy as np\n",
    "import seaborn as sns\n",
    "\n",
    "\n",
    "# Formulas for confidence bounds for correlation coefficient\n",
    "def std_err(n,r):\n",
    "    sr = np.sqrt((1-r**2)/(n-2))\n",
    "    return [sr,sr]"
   ]
  },
  {
   "cell_type": "code",
   "execution_count": null,
   "metadata": {},
   "outputs": [],
   "source": [
    "# Setting the positions and width for the bars\n",
    "results_df_test = pd.read_csv(\"fig_data/SuppFig3.csv\")\n",
    "pos = list(range(4))\n",
    "width = 0.25 \n",
    "    \n",
    "# Plotting the bars\n",
    "fig, ax = plt.subplots(figsize=(5.3,5.3))\n",
    "ax.spines['right'].set_visible(False)\n",
    "ax.spines['top'].set_visible(False)\n",
    "\n",
    "plt.bar(pos, results_df_test[results_df_test['model'] == 'cnn']['correlation'], \n",
    "        width, \n",
    "        alpha=0.5, label='CNN');\n",
    "\n",
    "plt.bar([p + width for p in pos], results_df_test[results_df_test['model'] == 'rr']['correlation'], \n",
    "        width, \n",
    "        alpha=0.5, label='Ridge Regression');\n",
    "\n",
    "plt.bar([p + 2*width for p in pos], results_df_test[results_df_test['model'] == 'rf']['correlation'], \n",
    "        width, \n",
    "        alpha=0.5, label='Random Forest');\n",
    "\n",
    "n = 348\n",
    "corr_ci_cnn = np.array([std_err(n,r) for r in results_df_test[results_df_test['model'] == 'cnn']['correlation']]).transpose()\n",
    "corr_ci_rr = np.array([std_err(n,r) for r in results_df_test[results_df_test['model'] == 'rr']['correlation']]).transpose()\n",
    "corr_ci_rf = np.array([std_err(n,r) for r in results_df_test[results_df_test['model'] == 'rf']['correlation']]).transpose()\n",
    "\n",
    "#print(results_df_test[results_df_test['model'] == 'cnn']['correlation'])\n",
    "plt.errorbar(pos, results_df_test[results_df_test['model'] == 'cnn']['correlation'], \n",
    "             corr_ci_cnn, fmt=' ', capsize=4)\n",
    "plt.errorbar([p + width for p in pos], results_df_test[results_df_test['model'] == 'rr']['correlation'], \n",
    "             corr_ci_rr, fmt=' ', capsize=4)\n",
    "plt.errorbar([p + 2*width for p in pos], results_df_test[results_df_test['model'] == 'rf']['correlation'], \n",
    "             corr_ci_rf, fmt=' ', capsize=4)\n",
    "\n",
    "ax.set_xticks([p + width for p in pos])\n",
    "labels = results_df_test['target'].tolist()\n",
    "labels[3] = \"knee flexion\\nat max extension\"\n",
    "ax.set_xticklabels(labels);\n",
    "\n",
    "plt.xlabel(\"Parameter\")\n",
    "plt.ylabel(\"Correlation\")\n",
    "leg = plt.legend()\n",
    "leg.get_frame().set_linewidth(0)\n",
    "plt.ylim([0.5,1]);\n",
    "plt.title(\"Model Performance\",fontsize=14)\n",
    "plt.savefig(\"output/Supplement-Figure-3.pdf\",bbox_inches=\"tight\",pad_inches=0.1)"
   ]
  }
 ],
 "metadata": {
  "kernelspec": {
   "display_name": "Python 3",
   "language": "python",
   "name": "python3"
  },
  "language_info": {
   "codemirror_mode": {
    "name": "ipython",
    "version": 3
   },
   "file_extension": ".py",
   "mimetype": "text/x-python",
   "name": "python",
   "nbconvert_exporter": "python",
   "pygments_lexer": "ipython3",
   "version": "3.8.2"
  }
 },
 "nbformat": 4,
 "nbformat_minor": 4
}
