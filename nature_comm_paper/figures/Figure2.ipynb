{
 "cells": [
  {
   "cell_type": "code",
   "execution_count": null,
   "metadata": {},
   "outputs": [],
   "source": [
    "import pandas as pd\n",
    "import seaborn as sns\n",
    "import matplotlib.pyplot as plt\n",
    "\n",
    "color = [x / 255. for x in [31,119,189]]\n",
    "alpha = 153/255."
   ]
  },
  {
   "cell_type": "code",
   "execution_count": null,
   "metadata": {
    "scrolled": false
   },
   "outputs": [],
   "source": [
    "data_ad = pd.read_csv(\"fig_data/Fig2a-d.csv\")\n",
    "variables = ['speed','cadence','KneeFlex_maxExtension','GDI']\n",
    "titles = ['Walking speed','Cadence','Knee flexion at maximum extension','Gait deviation index (GDI)']\n",
    "xaxis = ['Predicted speed [m/s]','Predicted cadence [m/s]','Predicted knee flexion [degrees]','Predicted GDI']\n",
    "yaxis = ['True speed','True cadence','True knee flexion','True GDI']\n",
    "subplot = ['a','b','c','d']\n",
    "\n",
    "for key in range(4):\n",
    "    var = variables[key]    \n",
    "    sns.set(rc={'figure.figsize':(5.3,5.3),'axes.titlesize': 14})\n",
    "    sns.set_style(\"ticks\")\n",
    "    corr = data_ad.corr()['%s_pred_corrected' % var][var]\n",
    "    \n",
    "    ax = sns.regplot(data_ad['%s_pred_corrected' % var],\n",
    "                     data_ad[var],\n",
    "                     color=color, \n",
    "                     scatter_kws={'alpha':alpha}\n",
    "                    )\n",
    "    ax.spines['top'].set_visible(False)\n",
    "    ax.spines['right'].set_visible(False)\n",
    "    plt.xlabel(xaxis[key])\n",
    "    plt.ylabel(yaxis[key])\n",
    "    plt.title(titles[key])\n",
    "\n",
    "    plt.text(-0.13, 1.04, subplot[key],\n",
    "             horizontalalignment='center',verticalalignment='center',\n",
    "             transform=ax.transAxes,size=14)\n",
    "\n",
    "    vmin = data_ad[['%s_pred_corrected' % var,var]].min().min()\n",
    "    vmax = data_ad[['%s_pred_corrected' % var,var]].max().max()\n",
    "\n",
    "    plt.text(0.85, 0.1, \"r = %.2f\" % (corr), horizontalalignment='center',verticalalignment='center', transform=ax.transAxes)\n",
    "    plt.savefig(\"output/Figure-2%s.pdf\" % subplot[key], bbox_inches=\"tight\",pad_inches=0.1)\n",
    "    plt.show()"
   ]
  },
  {
   "cell_type": "code",
   "execution_count": null,
   "metadata": {},
   "outputs": [],
   "source": [
    "data_e = pd.read_csv(\"fig_data/Fig2e.csv\")\n",
    "sns.set(rc={'figure.figsize':(5.3,5.3),'axes.titlesize': 14})\n",
    "sns.set_style(\"ticks\")\n",
    "ax = sns.regplot(data_e[\"predicted_asym\"],\n",
    "                 data_e[\"true_asym\"],\n",
    "                 color=color, \n",
    "                 scatter_kws={'alpha':alpha})\n",
    "\n",
    "plt.text(0.85, 0.1, \"r = %.2f\" % (data_e.corr()[\"predicted_asym\"][\"true_asym\"]), horizontalalignment='center',verticalalignment='center', transform=ax.transAxes)\n",
    "ax.spines['top'].set_visible(False)\n",
    "ax.spines['right'].set_visible(False)\n",
    "plt.text(-0.13, 1.04, \"e\",\n",
    "         horizontalalignment='center',verticalalignment='center',\n",
    "         transform=ax.transAxes,size=14)\n",
    "\n",
    "plt.xlabel(\"Predicted asymmetry\")\n",
    "plt.ylabel(\"True asymmmetry\")\n",
    "plt.title(\"Asymmetry in GDI\")\n",
    "plt.savefig(\"output/Figure-2e.pdf\",bbox_inches=\"tight\",pad_inches=0.1)\n",
    "\n",
    "plt.show()"
   ]
  },
  {
   "cell_type": "code",
   "execution_count": null,
   "metadata": {
    "scrolled": false
   },
   "outputs": [],
   "source": [
    "files = [\"Fig2f.csv\", \"Fig2g.csv\"]\n",
    "variables = [\"KneeFlex_maxExtension\", \"GDI\"]\n",
    "titles = ['Change in knee flexion\\nat maximum extension','Change in GDI']\n",
    "xlabel = ['Predicted change [degrees]','Predicted change']\n",
    "ylabel = ['True change','True change']\n",
    "subplot = ['f','g']\n",
    "\n",
    "for key in range(2):\n",
    "    var = variables[key]\n",
    "    data =\\\n",
    "        pd.read_csv(\"fig_data/%s\" % files[key])\n",
    "\n",
    "    sns.set(rc={'figure.figsize':(5.2,5.2),'axes.titlesize': 14})\n",
    "    sns.set_style(\"ticks\")\n",
    "\n",
    "    corr = data.corr()[\"Diff%s\" % var][\"pred\"]\n",
    "    ax = sns.regplot(data[\"pred\"],\n",
    "                     data[\"Diff%s\" % var],\n",
    "                     color=color, \n",
    "                     scatter_kws={'alpha':alpha})\n",
    "    ax.spines['top'].set_visible(False)\n",
    "    ax.spines['right'].set_visible(False)\n",
    "\n",
    "    plt.text(0.85, 0.1, \"r = %.2f\" % corr,\n",
    "             horizontalalignment='center',verticalalignment='center',\n",
    "             transform=ax.transAxes)\n",
    "    plt.text(-0.13, 1.04, subplot[key],\n",
    "             horizontalalignment='center',verticalalignment='center',\n",
    "             transform=ax.transAxes,size=14)\n",
    "\n",
    "    plt.xlabel(xlabel[key])\n",
    "    plt.ylabel(ylabel[key])\n",
    "    plt.title(titles[key])\n",
    "    plt.savefig(\"output/Figure-2%s.pdf\" % subplot[key],bbox_inches=\"tight\",pad_inches=0.1)\n",
    "    plt.show()"
   ]
  }
 ],
 "metadata": {
  "kernelspec": {
   "display_name": "Python 3",
   "language": "python",
   "name": "python3"
  },
  "language_info": {
   "codemirror_mode": {
    "name": "ipython",
    "version": 3
   },
   "file_extension": ".py",
   "mimetype": "text/x-python",
   "name": "python",
   "nbconvert_exporter": "python",
   "pygments_lexer": "ipython3",
   "version": "3.8.2"
  }
 },
 "nbformat": 4,
 "nbformat_minor": 4
}
