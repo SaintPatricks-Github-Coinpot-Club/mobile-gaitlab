{
 "cells": [
  {
   "cell_type": "code",
   "execution_count": 1,
   "metadata": {
    "collapsed": true
   },
   "outputs": [],
   "source": [
    "import numpy as np\n",
    "import random as rn\n",
    "import matplotlib.pyplot as plt\n",
    "%matplotlib inline\n",
    "import pandas as pd\n",
    "import cPickle as pickle\n",
    "from video_process_utils import *\n",
    "HOME_DIR = \"/home/bryan/clinical-video/\""
   ]
  },
  {
   "cell_type": "code",
   "execution_count": 2,
   "metadata": {
    "collapsed": true
   },
   "outputs": [],
   "source": [
    "from sklearn.metrics import mean_squared_error"
   ]
  },
  {
   "cell_type": "code",
   "execution_count": 3,
   "metadata": {
    "collapsed": true
   },
   "outputs": [],
   "source": [
    "output_corr = []\n",
    "output_mse = []\n",
    "for target_col in ['speed','cadence','GDI','KneeFlex_maxExtension','O2cons']:\n",
    "    predictions = pd.read_csv(\"./predictions/gdi/cnn_%s_predictions.csv\" % (target_col),dtype={'videoid':str})\n",
    "    predictions['error2'] = np.square(predictions['%s_pred_corrected' % (target_col)] - predictions['%s' % (target_col)])\n",
    "    for dataset in ['train','validation','test']:\n",
    "        c = predictions[predictions['dataset'] == dataset].corr()['%s' % (target_col)]['%s_pred_corrected' % (target_col)]\n",
    "        mse = np.sqrt(predictions[predictions['dataset'] == dataset]['error2'].mean())\n",
    "        output_corr.append((target_col,dataset,c))\n",
    "        output_mse.append((target_col,dataset,mse))"
   ]
  },
  {
   "cell_type": "code",
   "execution_count": 4,
   "metadata": {},
   "outputs": [
    {
     "data": {
      "text/plain": [
       "[('speed', 'train', 0.84365401313223221),\n",
       " ('speed', 'validation', 0.78502376838215582),\n",
       " ('speed', 'test', 0.76339972776192266),\n",
       " ('cadence', 'train', 0.79522161071558528),\n",
       " ('cadence', 'validation', 0.81365519127948749),\n",
       " ('cadence', 'test', 0.76449616283038235),\n",
       " ('GDI', 'train', 0.8255455704337451),\n",
       " ('GDI', 'validation', 0.75467173183199565),\n",
       " ('GDI', 'test', 0.73971496564698924),\n",
       " ('KneeFlex_maxExtension', 'train', 0.8979162918054624),\n",
       " ('KneeFlex_maxExtension', 'validation', 0.8552345636784956),\n",
       " ('KneeFlex_maxExtension', 'test', 0.81700671172948469),\n",
       " ('O2cons', 'train', 0.82512056334809825),\n",
       " ('O2cons', 'validation', 0.61740365533382324),\n",
       " ('O2cons', 'test', 0.49863410858576895)]"
      ]
     },
     "execution_count": 4,
     "metadata": {},
     "output_type": "execute_result"
    }
   ],
   "source": [
    "output_corr"
   ]
  },
  {
   "cell_type": "code",
   "execution_count": 5,
   "metadata": {},
   "outputs": [
    {
     "data": {
      "text/plain": [
       "[('speed', 'train', 0.15132911677637928),\n",
       " ('speed', 'validation', 0.17264932519055223),\n",
       " ('speed', 'test', 0.1856499605181941),\n",
       " ('cadence', 'train', 0.12533610651451901),\n",
       " ('cadence', 'validation', 0.11416014689009714),\n",
       " ('cadence', 'test', 0.13718951888339531),\n",
       " ('GDI', 'train', 6.8921815122190022),\n",
       " ('GDI', 'validation', 7.716077588437952),\n",
       " ('GDI', 'test', 8.1009860630691364),\n",
       " ('KneeFlex_maxExtension', 'train', 5.9822319931729284),\n",
       " ('KneeFlex_maxExtension', 'validation', 6.7455166906200938),\n",
       " ('KneeFlex_maxExtension', 'test', 7.6932142122591536),\n",
       " ('O2cons', 'train', 0.034820197172401569),\n",
       " ('O2cons', 'validation', 0.044899517117955201),\n",
       " ('O2cons', 'test', 0.053864137963574525)]"
      ]
     },
     "execution_count": 5,
     "metadata": {},
     "output_type": "execute_result"
    }
   ],
   "source": [
    "output_mse"
   ]
  },
  {
   "cell_type": "code",
   "execution_count": null,
   "metadata": {
    "collapsed": true
   },
   "outputs": [],
   "source": []
  }
 ],
 "metadata": {
  "kernelspec": {
   "display_name": "Python 2",
   "language": "python",
   "name": "python2"
  },
  "language_info": {
   "codemirror_mode": {
    "name": "ipython",
    "version": 2
   },
   "file_extension": ".py",
   "mimetype": "text/x-python",
   "name": "python",
   "nbconvert_exporter": "python",
   "pygments_lexer": "ipython2",
   "version": "2.7.13"
  }
 },
 "nbformat": 4,
 "nbformat_minor": 2
}
