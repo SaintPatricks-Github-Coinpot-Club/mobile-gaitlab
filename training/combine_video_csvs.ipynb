{
 "cells": [
  {
   "cell_type": "code",
   "execution_count": null,
   "metadata": {},
   "outputs": [],
   "source": [
    "import pandas as pd\n",
    "import pickle\n",
    "import numpy as np"
   ]
  },
  {
   "cell_type": "code",
   "execution_count": null,
   "metadata": {},
   "outputs": [],
   "source": [
    "alldata_processed = pd.read_csv(\"./data/processed/alldata_processed.csv\")\n",
    "video_ids = set(alldata_processed['videoid'])"
   ]
  },
  {
   "cell_type": "code",
   "execution_count": null,
   "metadata": {},
   "outputs": [],
   "source": [
    "#read all the processed videos into memory (a big dictionary)\n",
    "all_videos = {}\n",
    "for i,video_id in enumerate(video_ids):\n",
    "    if(i % 100 == 0):\n",
    "        print(\"%.2f percent done\" % (i*100./len(video_ids)))\n",
    "    file_string = '%s/processed/video_csvs/%s.csv' % ('data',video_id)\n",
    "    try: \n",
    "        all_videos[video_id] = np.loadtxt(file_string, delimiter=',')\n",
    "    except:\n",
    "        print(\"missing %s\" % (video_id))"
   ]
  },
  {
   "cell_type": "code",
   "execution_count": null,
   "metadata": {},
   "outputs": [],
   "source": [
    "with open('./data/processed/all_videos_dict.pickle', 'wb') as handle:\n",
    "    pickle.dump(all_videos, handle, protocol=pickle.HIGHEST_PROTOCOL)"
   ]
  }
 ],
 "metadata": {
  "kernelspec": {
   "display_name": "Python 3",
   "language": "python",
   "name": "python3"
  },
  "language_info": {
   "codemirror_mode": {
    "name": "ipython",
    "version": 3
   },
   "file_extension": ".py",
   "mimetype": "text/x-python",
   "name": "python",
   "nbconvert_exporter": "python",
   "pygments_lexer": "ipython3",
   "version": "3.8.2"
  }
 },
 "nbformat": 4,
 "nbformat_minor": 2
}
