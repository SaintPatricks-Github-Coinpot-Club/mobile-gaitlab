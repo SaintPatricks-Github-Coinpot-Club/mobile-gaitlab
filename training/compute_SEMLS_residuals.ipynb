{
 "cells": [
  {
   "cell_type": "code",
   "execution_count": null,
   "metadata": {},
   "outputs": [],
   "source": [
    "import numpy as np\n",
    "import os\n",
    "import matplotlib.pyplot as plt\n",
    "import pandas as pd\n",
    "import sys\n",
    "from statsmodels.regression.linear_model import OLS\n",
    "from statsmodels.tools import add_constant\n",
    "import datetime\n",
    "from sklearn.metrics import roc_auc_score\n",
    "import seaborn as sns\n",
    "sns.set_style()\n",
    "import pandas as pd\n",
    "%matplotlib inline"
   ]
  },
  {
   "cell_type": "code",
   "execution_count": null,
   "metadata": {},
   "outputs": [],
   "source": [
    "datasplit_df = pd.read_csv('data/processed/train_test_valid_id_split.csv')[['videoid','dataset']]\n",
    "datasplit_df['videoid'] = datasplit_df['videoid'].apply(lambda x: int(x))\n",
    "alldata_processed =\\\n",
    "    pd.read_csv(\"./data/processed/alldata_processed.csv\")\n",
    "alldata_processed = alldata_processed.merge(right=datasplit_df,on=['videoid'],how='inner')"
   ]
  },
  {
   "cell_type": "code",
   "execution_count": null,
   "metadata": {},
   "outputs": [],
   "source": [
    "alldata_processed = pd.read_csv(\"./data/processed/alldata_processed.csv\")"
   ]
  },
  {
   "cell_type": "code",
   "execution_count": null,
   "metadata": {},
   "outputs": [],
   "source": [
    "datasplit_df = pd.read_csv('data/processed/train_test_valid_id_split.csv')[['videoid','dataset']]\n",
    "datasplit_df['videoid'] = datasplit_df['videoid'].apply(lambda x: int(x))\n",
    "alldata_processed = alldata_processed.merge(right=datasplit_df,on=['videoid'],how='inner')\n",
    "alldata_processed['const'] = 1"
   ]
  },
  {
   "cell_type": "code",
   "execution_count": null,
   "metadata": {},
   "outputs": [],
   "source": [
    "#age is truncated at 20 years because the relationship between age and SEMLS after 20 years is non-linear and \n",
    "#noisier\n",
    "alldata_processed['age_truncated'] = np.clip(alldata_processed['age'],0,20)"
   ]
  },
  {
   "cell_type": "code",
   "execution_count": null,
   "metadata": {},
   "outputs": [],
   "source": [
    "#interpolate missing mass and height: there are only 6 instances where these values are missing\n",
    "#interpolate missing mass\n",
    "df_interp = alldata_processed[alldata_processed['dataset'] == 'train'].copy()\n",
    "X = df_interp[[\"age_truncated\",\"const\"]].values\n",
    "y = df_interp[\"mass\"].values.reshape(-1,1)\n",
    "lm = OLS(y,X,missing='drop').fit()\n",
    "\n",
    "alldata_processed[\"predicted_mass\"] = lm.predict(alldata_processed[[\"age_truncated\",\"const\"]].values)\n",
    "alldata_processed[\"mass_interpolated\"] = np.where(alldata_processed[\"mass\"].isnull(),alldata_processed[\"predicted_mass\"],\n",
    "                                                 alldata_processed[\"mass\"])\n",
    "\n",
    "alldata_processed[\"log_interpolated_mass\"] = np.log(alldata_processed[\"mass_interpolated\"])\n",
    "#interpolate missing height using log(mass)\n",
    "df_interp = alldata_processed[alldata_processed['dataset'] == 'train'].copy()\n",
    "X = df_interp[[\"log_interpolated_mass\",\"const\"]].values\n",
    "y = df_interp[\"height\"].values.reshape(-1,1)\n",
    "lm = OLS(y,X,missing='drop').fit()\n",
    "\n",
    "alldata_processed[\"predicted_height\"] = lm.predict(alldata_processed[[\"log_interpolated_mass\",\"const\"]].values)\n",
    "\n",
    "alldata_processed[\"height_interpolated\"] = np.where(alldata_processed[\"height\"].isnull(),alldata_processed[\"predicted_height\"],\n",
    "                                                 alldata_processed[\"height\"])"
   ]
  },
  {
   "cell_type": "code",
   "execution_count": null,
   "metadata": {},
   "outputs": [],
   "source": [
    "#bucket data to make graphs\n",
    "alldata_processed['mass_buckets'] =\\\n",
    "    np.clip(np.floor(alldata_processed['mass_interpolated']/5)*5,1,80)\n",
    "\n",
    "alldata_processed['height_buckets'] =\\\n",
    "    np.clip(np.floor(alldata_processed['height_interpolated']/10)*10,90,180)\n",
    "    \n",
    "alldata_processed['age_buckets'] =\\\n",
    "    np.clip(np.floor(alldata_processed['age']),0,20)"
   ]
  },
  {
   "cell_type": "code",
   "execution_count": null,
   "metadata": {},
   "outputs": [],
   "source": [
    "sns.pointplot(x='height_buckets',y='SEMLS',data=alldata_processed[alldata_processed['dataset'] == 'train'])"
   ]
  },
  {
   "cell_type": "code",
   "execution_count": null,
   "metadata": {},
   "outputs": [],
   "source": [
    "sns.pointplot(x='mass_buckets',y='SEMLS',data=alldata_processed[alldata_processed['dataset'] == 'train'])"
   ]
  },
  {
   "cell_type": "code",
   "execution_count": null,
   "metadata": {},
   "outputs": [],
   "source": [
    "sns.pointplot(x='age_buckets',y='SEMLS',data=alldata_processed[alldata_processed['dataset'] == 'train'])"
   ]
  },
  {
   "cell_type": "code",
   "execution_count": null,
   "metadata": {},
   "outputs": [],
   "source": [
    "alldata_processed['mass_interpolated2'] = np.square(alldata_processed['mass_interpolated'])/100\n",
    "alldata_processed['age_truncated2'] = np.square(alldata_processed['age_truncated'])/100\n",
    "alldata_processed['height_interpolated2'] = np.square(alldata_processed['height_interpolated'])/100"
   ]
  },
  {
   "cell_type": "code",
   "execution_count": null,
   "metadata": {},
   "outputs": [],
   "source": [
    "from statsmodels.regression.linear_model import OLS\n",
    "from statsmodels.discrete.discrete_model import Logit\n",
    "from statsmodels.tools import add_constant\n",
    "Xcols = [\"mass_interpolated\",\"mass_interpolated2\",\"age_truncated2\",\"age_truncated\",\n",
    "         \"height_interpolated\",\"height_interpolated2\",\n",
    "         \"isPostSurgGaitVisit\",\"const\"]\n",
    "\n",
    "X_train = alldata_processed[alldata_processed['dataset'] == 'train'][Xcols]\n",
    "y_train = alldata_processed[alldata_processed['dataset'] == 'train'][\"SEMLS\"]\n",
    "X = alldata_processed[Xcols].values\n",
    "y = alldata_processed[\"SEMLS\"].values\n",
    "\n",
    "lm = Logit(y_train,X_train).fit()\n",
    "\n",
    "\n",
    "alldata_processed['predicted_SEMLS'] = lm.predict(X)"
   ]
  },
  {
   "cell_type": "code",
   "execution_count": null,
   "metadata": {},
   "outputs": [],
   "source": [
    "lm.summary2()"
   ]
  },
  {
   "cell_type": "code",
   "execution_count": null,
   "metadata": {},
   "outputs": [],
   "source": [
    "def compute_deviance_residual(y,predicted_prob):\n",
    "    return np.where(y==1,np.sqrt(-2.0*np.log(predicted_prob)),\n",
    "                                 -np.sqrt(-2.0*np.log(1-predicted_prob)))"
   ]
  },
  {
   "cell_type": "code",
   "execution_count": null,
   "metadata": {},
   "outputs": [],
   "source": [
    "roc_auc_score(alldata_processed[alldata_processed['dataset'] == 'train']['SEMLS'],\n",
    "              alldata_processed[alldata_processed['dataset'] == 'train']['predicted_SEMLS'])"
   ]
  },
  {
   "cell_type": "code",
   "execution_count": null,
   "metadata": {},
   "outputs": [],
   "source": [
    "roc_auc_score(alldata_processed[alldata_processed['dataset'] == 'validation']['SEMLS'],\n",
    "              alldata_processed[alldata_processed['dataset'] == 'validation']['predicted_SEMLS'])"
   ]
  },
  {
   "cell_type": "code",
   "execution_count": null,
   "metadata": {},
   "outputs": [],
   "source": [
    "alldata_processed['SEMLS_dev_residual'] = compute_deviance_residual(y,\n",
    "                                                                   lm.predict(X))"
   ]
  },
  {
   "cell_type": "code",
   "execution_count": null,
   "metadata": {},
   "outputs": [],
   "source": [
    "alldata_processed.to_csv(\"./data/processed/alldata_processed_with_dev_residual.csv\",index=False)"
   ]
  },
  {
   "cell_type": "code",
   "execution_count": null,
   "metadata": {},
   "outputs": [],
   "source": [
    "alldata_processed['SEMLS_dev_residual'].std()"
   ]
  }
 ],
 "metadata": {
  "kernelspec": {
   "display_name": "Python 3",
   "language": "python",
   "name": "python3"
  },
  "language_info": {
   "codemirror_mode": {
    "name": "ipython",
    "version": 3
   },
   "file_extension": ".py",
   "mimetype": "text/x-python",
   "name": "python",
   "nbconvert_exporter": "python",
   "pygments_lexer": "ipython3",
   "version": "3.8.2"
  }
 },
 "nbformat": 4,
 "nbformat_minor": 2
}
