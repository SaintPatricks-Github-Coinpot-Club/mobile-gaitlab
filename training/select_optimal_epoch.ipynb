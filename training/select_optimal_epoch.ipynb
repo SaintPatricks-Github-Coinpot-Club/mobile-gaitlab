{
 "cells": [
  {
   "cell_type": "code",
   "execution_count": null,
   "metadata": {},
   "outputs": [],
   "source": [
    "import numpy as np\n",
    "import os\n",
    "import matplotlib.pyplot as plt\n",
    "import pandas as pd\n",
    "import sys\n",
    "from statsmodels.regression.linear_model import OLS\n",
    "from statsmodels.discrete.discrete_model import Logit\n",
    "from statsmodels.tools import add_constant\n",
    "import datetime\n",
    "from sklearn.metrics import roc_auc_score\n",
    "import statsmodels.api as sm\n",
    "%matplotlib inline"
   ]
  },
  {
   "cell_type": "code",
   "execution_count": null,
   "metadata": {
    "scrolled": true
   },
   "outputs": [],
   "source": [
    "target_col = \"KneeFlex_maxExtension\"\n",
    "sided = \"_singlesided\"\n",
    "if target_col in [\"KneeFlex_maxExtension\"]:\n",
    "    sided = \"\"\n",
    "\n",
    "predictions = pd.read_csv(\"./data/predictions/cnn_%s%s_predictions_all_epochs.csv\" % (target_col,sided),dtype={'videoid':int})"
   ]
  },
  {
   "cell_type": "code",
   "execution_count": null,
   "metadata": {},
   "outputs": [],
   "source": [
    "predictions['const'] = 1"
   ]
  },
  {
   "cell_type": "code",
   "execution_count": null,
   "metadata": {},
   "outputs": [],
   "source": [
    "def get_corrected_model(iteration):\n",
    "    lm = sm.OLS(predictions[predictions['dataset'] == 'train'][target_col].values,\n",
    "                           predictions[predictions['dataset'] == 'train'][['%s_pred_%s' % (target_col,iteration),\"const\"]].values).fit()\n",
    "\n",
    "    predictions['%s_pred_%s_corrected' % (target_col,iteration)] = lm.predict(predictions[['%s_pred_%s' % (target_col,iteration),\"const\"]])\n",
    "    predictions['error2'] = np.square(predictions[target_col] - predictions['%s_pred_%s_corrected' % (target_col,iteration)])\n",
    "    rmses = np.sqrt(predictions.groupby('dataset')['error2'].mean())\n",
    "    return lm, rmses\n",
    "\n",
    "train_rmse = []\n",
    "val_rmse = []\n",
    "for i in range(100):\n",
    "    _, rmses = get_corrected_model(i)\n",
    "    train_rmse.append(rmses.loc['train'])\n",
    "    val_rmse.append(rmses.loc['validation'])"
   ]
  },
  {
   "cell_type": "code",
   "execution_count": null,
   "metadata": {},
   "outputs": [],
   "source": [
    "best_epoch = np.argmin(val_rmse)"
   ]
  },
  {
   "cell_type": "code",
   "execution_count": null,
   "metadata": {},
   "outputs": [],
   "source": [
    "print(best_epoch)\n",
    "lm, _ = get_corrected_model(best_epoch)\n",
    "filepath = \"./data/models/%s_correction.pb\" % target_col\n",
    "lm.save(filepath, remove_data = True)"
   ]
  },
  {
   "cell_type": "code",
   "execution_count": null,
   "metadata": {},
   "outputs": [],
   "source": [
    "predictions['%s_pred_corrected' % (target_col)] = predictions['%s_pred_%s_corrected' % (target_col,best_epoch)]"
   ]
  },
  {
   "cell_type": "code",
   "execution_count": null,
   "metadata": {},
   "outputs": [],
   "source": [
    "side_col = []\n",
    "if target_col in [\"KneeFlex_maxExtension\"]:\n",
    "    side_col = ['side']\n",
    "predictions[['%s_pred_corrected' % (target_col),'videoid']+side_col+['dataset']].\\\n",
    "    to_csv(\"./data/predictions/cnn_%s_predictions_best_epoch.csv\" % (target_col),index=False)"
   ]
  }
 ],
 "metadata": {
  "kernelspec": {
   "display_name": "Python 3",
   "language": "python",
   "name": "python3"
  },
  "language_info": {
   "codemirror_mode": {
    "name": "ipython",
    "version": 3
   },
   "file_extension": ".py",
   "mimetype": "text/x-python",
   "name": "python",
   "nbconvert_exporter": "python",
   "pygments_lexer": "ipython3",
   "version": "3.8.2"
  }
 },
 "nbformat": 4,
 "nbformat_minor": 2
}
