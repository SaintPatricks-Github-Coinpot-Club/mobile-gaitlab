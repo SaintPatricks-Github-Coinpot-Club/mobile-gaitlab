{
 "cells": [
  {
   "cell_type": "code",
   "execution_count": null,
   "metadata": {},
   "outputs": [],
   "source": [
    "import statsmodels.api as sm\n",
    "import pandas as pd\n",
    "import seaborn as sns\n",
    "import matplotlib.pyplot as plt\n",
    "import math\n",
    "import numpy as np\n",
    "\n",
    "color = [x / 255. for x in [31,119,189]]\n",
    "alpha = 153/255."
   ]
  },
  {
   "cell_type": "code",
   "execution_count": null,
   "metadata": {
    "scrolled": false
   },
   "outputs": [],
   "source": [
    "df = pd.read_csv(\"fig_data/SuppFig2.csv\")\n",
    "\n",
    "#print(list(cnn_gdi_predictions))\n",
    "mappings = {\n",
    "    \"FootProg_meanStance\": \"Mean foot progression angle at stance\",\n",
    "    \"HipRot_mean\": \"Mean hip adduction\",\n",
    "}\n",
    "\n",
    "\n",
    "def compare_with_residuals(dependent, var, letter, order=2):\n",
    "    cnn_gdi_predictions = df\n",
    "    cnn_gdi_predictions[\"%s_pred_residuals\" % dependent] = cnn_gdi_predictions[\"%s_pred_corrected\" % dependent] - cnn_gdi_predictions[dependent]\n",
    "\n",
    "    corr = cnn_gdi_predictions.corr()['%s_pred_corrected' % dependent][var]\n",
    "\n",
    "    sns.set(rc={'figure.figsize':(5.3,5.3),'axes.titlesize': 14})\n",
    "    sns.set_style(\"ticks\")\n",
    "\n",
    "    ax = sns.regplot(cnn_gdi_predictions[var],\n",
    "                     cnn_gdi_predictions['%s_pred_residuals' % dependent],\n",
    "                     order=order,\n",
    "                     color=color, \n",
    "                     scatter_kws={'alpha':alpha})\n",
    "    ax.spines['top'].set_visible(False)\n",
    "    ax.spines['right'].set_visible(False)\n",
    "\n",
    "    var_sq = \"%s_sq\" % var\n",
    "    cnn_gdi_predictions[var_sq] = cnn_gdi_predictions[var]**2\n",
    "    mod = sm.OLS(cnn_gdi_predictions['%s_pred_residuals' % dependent], cnn_gdi_predictions[[var, var_sq][:order]],missing='drop')\n",
    "    fii = mod.fit()\n",
    "    print(fii.summary2())\n",
    "\n",
    "    plt.text(-0.13, 1.04, letter,\n",
    "            horizontalalignment='center',verticalalignment='center',\n",
    "            transform=ax.transAxes,size=14)\n",
    "\n",
    "    plt.text(0.85, 0.14, r\"r $= %.2f$\" % math.sqrt(fii.rsquared_adj), horizontalalignment='center',verticalalignment='center', transform=ax.transAxes)\n",
    "    plt.text(0.85, 0.07, r\"p $< 10^{-4}$\", horizontalalignment='center',verticalalignment='center', transform=ax.transAxes)\n",
    "    nl = \"\"\n",
    "    if letter==\"a\":\n",
    "        nl=\"\\n\"\n",
    "    plt.title(\"%s %svs residual %s\" % (mappings.get(var, var), nl, dependent))\n",
    "    plt.xlabel(mappings.get(var, var) + \" [degrees]\")\n",
    "    plt.ylabel(\"Residual %s\" % dependent)\n",
    "    plt.savefig(\"output/Supplement-Figure-2%s.pdf\" % letter,bbox_inches=\"tight\",pad_inches=0.1)\n",
    "    plt.show()\n",
    "\n",
    "    return fii\n",
    "\n",
    "compare_with_residuals(\"GDI\", \"HipRot_mean\", \"b\", 2)\n",
    "fii = compare_with_residuals(\"GDI\", \"FootProg_meanStance\", \"a\", 2)"
   ]
  }
 ],
 "metadata": {
  "kernelspec": {
   "display_name": "Python 3",
   "language": "python",
   "name": "python3"
  },
  "language_info": {
   "codemirror_mode": {
    "name": "ipython",
    "version": 3
   },
   "file_extension": ".py",
   "mimetype": "text/x-python",
   "name": "python",
   "nbconvert_exporter": "python",
   "pygments_lexer": "ipython3",
   "version": "3.8.2"
  }
 },
 "nbformat": 4,
 "nbformat_minor": 4
}
