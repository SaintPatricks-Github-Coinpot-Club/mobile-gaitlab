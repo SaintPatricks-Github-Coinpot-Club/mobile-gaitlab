{
 "cells": [
  {
   "cell_type": "code",
   "execution_count": null,
   "metadata": {},
   "outputs": [],
   "source": [
    "#data analysis of the predictions\n",
    "import numpy as np\n",
    "import os\n",
    "import matplotlib.pyplot as plt\n",
    "import pandas as pd\n",
    "import sys\n",
    "from statsmodels.regression.linear_model import OLS\n",
    "from statsmodels.discrete.discrete_model import Logit\n",
    "from statsmodels.tools import add_constant\n",
    "import datetime\n",
    "from sklearn.metrics import roc_auc_score\n",
    "%matplotlib inline"
   ]
  },
  {
   "cell_type": "code",
   "execution_count": null,
   "metadata": {},
   "outputs": [],
   "source": [
    "import seaborn as sns\n",
    "from sklearn.metrics import mean_squared_error"
   ]
  },
  {
   "cell_type": "code",
   "execution_count": null,
   "metadata": {},
   "outputs": [],
   "source": [
    "alldata_processed =\\\n",
    "    pd.read_csv(\"data/processed/alldata_processed_with_dev_residual.csv\" )\n",
    "alldata_processed['videoid'] = alldata_processed['videoid'].apply(lambda x: int(x))\n",
    "alldata_processed['Event_Date'] = pd.to_datetime(alldata_processed['Event_Date'],format='%Y-%m-%d')"
   ]
  },
  {
   "cell_type": "code",
   "execution_count": null,
   "metadata": {},
   "outputs": [],
   "source": [
    "def add_predictions(df,target_col):\n",
    "    side = []\n",
    "    if target_col in [\"GDI\"]:\n",
    "        side = [\"side\"]\n",
    "    predictions = pd.read_csv(\"./data/predictions/cnn_%s_predictions_best_epoch.csv\" % (target_col),dtype={'videoid':int})\n",
    "    predictions = predictions[['videoid']+side+['%s_pred_corrected' % (target_col)]]\n",
    "    df = df.merge(right=predictions,on=['videoid']+side,how='left')\n",
    "    return df"
   ]
  },
  {
   "cell_type": "code",
   "execution_count": null,
   "metadata": {},
   "outputs": [],
   "source": [
    "df = alldata_processed.copy()\n",
    "#df = add_predictions(df,\"SEMLS_dev_residual\")\n",
    "df = add_predictions(df,\"gmfcs\")"
   ]
  },
  {
   "cell_type": "code",
   "execution_count": null,
   "metadata": {},
   "outputs": [],
   "source": [
    "df['Anteversion'].fillna(np.mean(df['Anteversion']),inplace=True)"
   ]
  },
  {
   "cell_type": "code",
   "execution_count": null,
   "metadata": {},
   "outputs": [],
   "source": [
    "df['SEMLS_dev_residual_pred_corrected_buckets'] =\\\n",
    "    np.clip(np.floor(df['SEMLS_dev_residual_pred_corrected']/0.1)*0.1,-0.6,0.2)"
   ]
  },
  {
   "cell_type": "code",
   "execution_count": null,
   "metadata": {},
   "outputs": [],
   "source": [
    "sns.pointplot(x='SEMLS_dev_residual_pred_corrected_buckets',y='SEMLS',data=df[df['dataset'] == 'test'])\n",
    "plt.title(\"mean(SEMLS) vs CNN predicted SEMLS dev residual: test set\")"
   ]
  },
  {
   "cell_type": "code",
   "execution_count": null,
   "metadata": {},
   "outputs": [],
   "source": [
    "Xcols = [\"mass_interpolated\",\"mass_interpolated2\",\"age_truncated2\",\"age_truncated\",\n",
    "         \"height_interpolated\",\"height_interpolated2\",\n",
    "         'SEMLS_dev_residual_pred_corrected',\"isPostSurgGaitVisit\",\"const\"]\n",
    "\n",
    "X_train = df[df['dataset'] == 'train'][Xcols]\n",
    "y_train = df[df['dataset'] == 'train'][\"SEMLS\"]\n",
    "X = df[Xcols]\n",
    "y = df[\"SEMLS\"]\n",
    "\n",
    "lm = Logit(y_train,X_train).fit()\n",
    "\n",
    "df['predicted_SEMLS'] = lm.predict(X)"
   ]
  },
  {
   "cell_type": "code",
   "execution_count": null,
   "metadata": {},
   "outputs": [],
   "source": [
    "df['predicted_SEMLS_buckets'] =\\\n",
    "    np.clip(np.floor(df['predicted_SEMLS']/0.05)*0.05,0.05,0.4)"
   ]
  },
  {
   "cell_type": "code",
   "execution_count": null,
   "metadata": {},
   "outputs": [],
   "source": [
    "print(roc_auc_score(df[df['dataset'] == 'train']['SEMLS'],\n",
    "              df[df['dataset'] == 'train']['predicted_SEMLS']),\"train ROC\")\n",
    "\n",
    "print(roc_auc_score(df[df['dataset'] == 'validation']['SEMLS'],\n",
    "              df[df['dataset'] == 'validation']['predicted_SEMLS']),\"validation ROC\")\n",
    "\n",
    "print(roc_auc_score(df[df['dataset'] == 'test']['SEMLS'],\n",
    "              df[df['dataset'] == 'test']['predicted_SEMLS']),\"test ROC\")\n"
   ]
  },
  {
   "cell_type": "code",
   "execution_count": null,
   "metadata": {},
   "outputs": [],
   "source": [
    "plt.scatter(df['SEMLS_dev_residual_pred_corrected'],df['GDI'])\n",
    "plt.xlabel(\"Predicted SEMLS Dev Residual (Corrected)\")\n",
    "plt.ylabel(\"GDI\")\n",
    "plt.title(\"GDI vs. Predicted SEMLS Residual (entire dataset)\");"
   ]
  },
  {
   "cell_type": "code",
   "execution_count": null,
   "metadata": {},
   "outputs": [],
   "source": [
    "from sklearn.metrics import roc_curve"
   ]
  },
  {
   "cell_type": "code",
   "execution_count": null,
   "metadata": {},
   "outputs": [],
   "source": [
    "fpr, tpr, thresholds = roc_curve(df[df['dataset'] == 'test']['SEMLS'],\n",
    "          df[df['dataset'] == 'test']['predicted_SEMLS'])"
   ]
  },
  {
   "cell_type": "code",
   "execution_count": null,
   "metadata": {},
   "outputs": [],
   "source": [
    "plt.plot(fpr,tpr)\n",
    "plt.title(\"ROC Curve: Predicted SEMLS\")\n",
    "plt.xlabel(\"fpr\")\n",
    "plt.ylabel(\"tpr\")"
   ]
  },
  {
   "cell_type": "code",
   "execution_count": null,
   "metadata": {},
   "outputs": [],
   "source": [
    "#same analysis but using gdi instead of cnn predictions\n",
    "Xcols = [\"mass_interpolated\",\"mass_interpolated2\",\"age_truncated2\",\"age_truncated\",\n",
    "         \"height_interpolated\",\"height_interpolated2\",\n",
    "         'GDI',\"isPostSurgGaitVisit\",\"const\"]\n",
    "\n",
    "X_train = df[df['dataset'] == 'train'][Xcols]\n",
    "y_train = df[df['dataset'] == 'train'][\"SEMLS\"]\n",
    "X = df[Xcols]\n",
    "y = df[\"SEMLS\"]\n",
    "\n",
    "lm = Logit(y_train,X_train).fit()\n",
    "\n",
    "df['predicted_SEMLS'] = lm.predict(X)\n",
    "lm.summary2()"
   ]
  },
  {
   "cell_type": "code",
   "execution_count": null,
   "metadata": {},
   "outputs": [],
   "source": [
    "print(roc_auc_score(df[df['dataset'] == 'train']['SEMLS'],\n",
    "              df[df['dataset'] == 'train']['predicted_SEMLS']),\"train ROC\")\n",
    "\n",
    "print(roc_auc_score(df[df['dataset'] == 'validation']['SEMLS'],\n",
    "              df[df['dataset'] == 'validation']['predicted_SEMLS']),\"validation ROC\")\n",
    "\n",
    "print(roc_auc_score(df[df['dataset'] == 'test']['SEMLS'],\n",
    "              df[df['dataset'] == 'test']['predicted_SEMLS']),\"test ROC\")\n"
   ]
  },
  {
   "cell_type": "code",
   "execution_count": null,
   "metadata": {},
   "outputs": [],
   "source": [
    "#including both variables\n",
    "Xcols = [\"mass_interpolated\",\"mass_interpolated2\",\"age_truncated2\",\"age_truncated\",\n",
    "         \"height_interpolated\",\"height_interpolated2\",\"SEMLS_dev_residual_pred_corrected\",\n",
    "         'GDI', \"isPostSurgGaitVisit\",\"const\"]\n",
    "\n",
    "X_train = df[df['dataset'] == 'train'][Xcols]\n",
    "y_train = df[df['dataset'] == 'train'][\"SEMLS\"]\n",
    "X = df[Xcols]\n",
    "y = df[\"SEMLS\"]\n",
    "\n",
    "lm = Logit(y_train,X_train).fit()\n",
    "\n",
    "df['predicted_SEMLS'] = lm.predict(X)\n",
    "lm.summary2()"
   ]
  },
  {
   "cell_type": "code",
   "execution_count": null,
   "metadata": {},
   "outputs": [],
   "source": [
    "print(roc_auc_score(df[df['dataset'] == 'train']['SEMLS'],\n",
    "              df[df['dataset'] == 'train']['predicted_SEMLS']),\"train ROC\")\n",
    "\n",
    "print(roc_auc_score(df[df['dataset'] == 'validation']['SEMLS'],\n",
    "              df[df['dataset'] == 'validation']['predicted_SEMLS']),\"validation ROC\")\n",
    "\n",
    "print(roc_auc_score(df[df['dataset'] == 'test']['SEMLS'],\n",
    "              df[df['dataset'] == 'test']['predicted_SEMLS']),\"test ROC\")\n"
   ]
  },
  {
   "cell_type": "markdown",
   "metadata": {},
   "source": [
    "Run the linear model on just the test dataset to get confidence intervals.\n",
    "\n",
    "I use cluster robust standard errors clustered by the videoid (since for each video there is GDI_L, GDI_R and there's likely some within video correlation)"
   ]
  },
  {
   "cell_type": "code",
   "execution_count": null,
   "metadata": {},
   "outputs": [],
   "source": [
    "Xcols = [\"mass_interpolated\",\"mass_interpolated2\",\"age_truncated2\",\"age_truncated\",\n",
    "         \"height_interpolated\",\"height_interpolated2\",\n",
    "         'GDI', \"isPostSurgGaitVisit\",\"SEMLS_dev_residual_pred_corrected\",\"const\"]\n",
    "\n",
    "X_train = df[df['dataset'] == 'test'][Xcols]\n",
    "y_train = df[df['dataset'] == 'test'][\"SEMLS\"]\n",
    "X = df[Xcols]\n",
    "y = df[\"SEMLS\"]\n",
    "\n",
    "lm = Logit(y_train,X_train).fit(cov_type='cluster',cov_kwds={'groups':df[df['dataset'] == 'test']['videoid']})\n",
    "lm.summary2()"
   ]
  },
  {
   "cell_type": "markdown",
   "metadata": {},
   "source": [
    "# Analyze GDI Predictions"
   ]
  },
  {
   "cell_type": "code",
   "execution_count": null,
   "metadata": {},
   "outputs": [],
   "source": [
    "alldata_subset = alldata_processed[['videoid','side','Event_Date','Patient_ID','GDI','gmfcs']].copy()\n",
    "cnn_gdi_predictions = pd.read_csv(\"./data/predictions/cnn_GDI_predictions_best_epoch.csv\",dtype={'videoid':str})\n",
    "cnn_gdi_predictions['videoid'] = cnn_gdi_predictions['videoid'].apply(lambda x: int(x))\n",
    "cnn_gdi_predictions = cnn_gdi_predictions.merge(right=alldata_subset,on=['videoid','side'],how='left')"
   ]
  },
  {
   "cell_type": "code",
   "execution_count": null,
   "metadata": {},
   "outputs": [],
   "source": [
    "sns.reset_defaults();"
   ]
  },
  {
   "cell_type": "code",
   "execution_count": null,
   "metadata": {},
   "outputs": [],
   "source": [
    "cnn_gdi_predictions[cnn_gdi_predictions['dataset'] == 'test'].corr()"
   ]
  },
  {
   "cell_type": "code",
   "execution_count": null,
   "metadata": {},
   "outputs": [],
   "source": [
    "plt.scatter(cnn_gdi_predictions[cnn_gdi_predictions['dataset'] == 'test']['GDI_pred_corrected'],\n",
    "            cnn_gdi_predictions[cnn_gdi_predictions['dataset'] == 'test']['GDI'])\n",
    "plt.xlabel(\"Predicted GDI\")\n",
    "plt.ylabel(\"GDI\")\n",
    "plt.title(\"GDI Predictions: Test Set ($\\\\rho$ = 0.73)\")\n",
    "plt.savefig(\"./figures/gdi_scatterplot.png\",dpi=600)"
   ]
  },
  {
   "cell_type": "code",
   "execution_count": null,
   "metadata": {},
   "outputs": [],
   "source": [
    "#distribution of GDI in different GMFCS groups\n",
    "sns.pointplot(x='gmfcs',y='GDI',data=cnn_gdi_predictions,color='green',\n",
    "             label='GDI')\n",
    "plt.ylabel(\"Average GDI\")\n",
    "plt.ylim([40,110]);\n",
    "plt.title(\"GDI by GMFCS\")\n",
    "plt.legend()\n",
    "plt.savefig(\"./figures/gmfcs_scatterplot.png\",dpi=600)"
   ]
  },
  {
   "cell_type": "code",
   "execution_count": null,
   "metadata": {},
   "outputs": [],
   "source": [
    "analyze_changes = cnn_gdi_predictions.sort_values(by=[\"Patient_ID\",\"side\",\"Event_Date\"]).copy()\n",
    "analyze_changes = analyze_changes[analyze_changes['dataset'] == 'test'].groupby([\"Patient_ID\",\"side\"])[\"GDI\",\"GDI_pred_corrected\"].diff(1)"
   ]
  },
  {
   "cell_type": "code",
   "execution_count": null,
   "metadata": {},
   "outputs": [],
   "source": [
    "forplot = analyze_changes.copy()\n",
    "corr = forplot.corr()['GDI_pred_corrected']['GDI']\n",
    "plt.scatter(forplot['GDI_pred_corrected'],forplot['GDI'])\n",
    "plt.xlabel(\"Change in Predicted GDI\")\n",
    "plt.ylabel(\"Change in GDI\")\n",
    "plt.title(\"Change in Predicted GDI vs Change in GDI: Test Set (corr = %s)\" % (corr))"
   ]
  },
  {
   "cell_type": "code",
   "execution_count": null,
   "metadata": {},
   "outputs": [],
   "source": [
    "#showing increase in correlation for changes >= ~RMSE\n",
    "forplot = analyze_changes[np.abs(analyze_changes['GDI_pred_corrected']) >= 8].copy()\n",
    "corr = forplot.corr()['GDI_pred_corrected']['GDI']\n",
    "plt.scatter(forplot['GDI_pred_corrected'],forplot['GDI'])\n",
    "plt.xlabel(\"Change in Predicted GDI\")\n",
    "plt.ylabel(\"Change in GDI\")\n",
    "plt.title(\"Change in Predicted GDI vs Change in GDI: Test Set (corr = %s)\" % (corr))"
   ]
  },
  {
   "cell_type": "code",
   "execution_count": null,
   "metadata": {},
   "outputs": [],
   "source": [
    "alldata_subset = alldata_processed[['videoid','side','Event_Date','Patient_ID','GDI','gmfcs']].copy()\n",
    "cnn_gmfcs_predictions = pd.read_csv(\"./data/predictions/cnn_gmfcs_predictions_best_epoch.csv\",dtype={'videoid':str})\n",
    "cnn_gmfcs_predictions['videoid'] = cnn_gmfcs_predictions['videoid'].apply(lambda x: int(x))\n",
    "cnn_gmfcs_predictions = cnn_gmfcs_predictions.merge(right=alldata_subset,on=['videoid'],how='left')"
   ]
  },
  {
   "cell_type": "code",
   "execution_count": null,
   "metadata": {},
   "outputs": [],
   "source": [
    "cnn_gmfcs_predictions[cnn_gmfcs_predictions['dataset'] == 'test'].corr()"
   ]
  },
  {
   "cell_type": "code",
   "execution_count": null,
   "metadata": {},
   "outputs": [],
   "source": [
    "sns.boxplot(x='gmfcs',y='gmfcs_pred_corrected',data=cnn_gmfcs_predictions)"
   ]
  }
 ],
 "metadata": {
  "kernelspec": {
   "display_name": "Python 3",
   "language": "python",
   "name": "python3"
  },
  "language_info": {
   "codemirror_mode": {
    "name": "ipython",
    "version": 3
   },
   "file_extension": ".py",
   "mimetype": "text/x-python",
   "name": "python",
   "nbconvert_exporter": "python",
   "pygments_lexer": "ipython3",
   "version": "3.8.2"
  }
 },
 "nbformat": 4,
 "nbformat_minor": 2
}
