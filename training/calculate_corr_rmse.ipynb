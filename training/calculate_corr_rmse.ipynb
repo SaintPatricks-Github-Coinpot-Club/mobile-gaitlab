{
 "cells": [
  {
   "cell_type": "code",
   "execution_count": null,
   "metadata": {},
   "outputs": [],
   "source": [
    "import numpy as np\n",
    "import random as rn\n",
    "import matplotlib.pyplot as plt\n",
    "%matplotlib inline\n",
    "import pandas as pd\n",
    "import pickle\n",
    "from video_process_utils import *"
   ]
  },
  {
   "cell_type": "code",
   "execution_count": null,
   "metadata": {},
   "outputs": [],
   "source": [
    "from sklearn.metrics import mean_squared_error"
   ]
  },
  {
   "cell_type": "code",
   "execution_count": null,
   "metadata": {},
   "outputs": [],
   "source": [
    "alldata_processed =\\\n",
    "    pd.read_csv(\"data/annotations/alldata_processed_with_dev_residual.csv\" )\n",
    "alldata_processed['videoid'] = alldata_processed['videoid'].apply(lambda x: int(x))"
   ]
  },
  {
   "cell_type": "code",
   "execution_count": null,
   "metadata": {},
   "outputs": [],
   "source": [
    "results = []"
   ]
  },
  {
   "cell_type": "code",
   "execution_count": null,
   "metadata": {},
   "outputs": [],
   "source": [
    "target_cols = ['GDI','speed','cadence','KneeFlex_maxExtension']\n",
    "\n",
    "for idx,target_col in enumerate(target_cols):\n",
    "    target_df = alldata_processed[[\"videoid\",\"side\",target_col]].copy()\n",
    "    predictions = pd.read_csv(\"./predictions/cnn_%s_predictions_best_epoch.csv\" % (target_col),dtype={'videoid':int})\n",
    "    predictions = predictions.merge(right=target_df,on=['videoid','side'],how='left')\n",
    "    predictions['error2'] = np.square(predictions['%s_pred_corrected' % (target_col)] - predictions['%s' % (target_col)])\n",
    "    for dataset in ['train','validation','test']:\n",
    "        c = predictions[predictions['dataset'] == dataset].corr()['%s' % (target_col)]['%s_pred_corrected' % (target_col)]\n",
    "        rmse = np.sqrt(predictions[predictions['dataset'] == dataset]['error2'].mean())\n",
    "        results.append([\"cnn\",target_col,dataset,c,rmse,idx])"
   ]
  },
  {
   "cell_type": "code",
   "execution_count": null,
   "metadata": {},
   "outputs": [],
   "source": [
    "for mod in ['rr','rf']:\n",
    "    for idx,target_col in enumerate(target_cols):\n",
    "        target_df = alldata_processed[[\"videoid\",\"side\",target_col]].copy()\n",
    "        predictions = pd.read_csv(\"./predictions/%s_%s_predictions.csv\" % (mod,target_col),dtype={'videoid':int})\n",
    "        predictions = predictions.merge(right=target_df,on=['videoid','side'],how='left')\n",
    "        predictions['error2'] = np.square(predictions['%s_pred' % (target_col)] - predictions['%s' % (target_col)])\n",
    "        for dataset in ['train','validation','test']:\n",
    "            c = predictions[predictions['dataset'] == dataset].corr()['%s' % (target_col)]['%s_pred' % (target_col)]\n",
    "            rmse = np.sqrt(predictions[predictions['dataset'] == dataset]['error2'].mean())\n",
    "            results.append([mod,target_col,dataset,c,rmse,idx])"
   ]
  },
  {
   "cell_type": "code",
   "execution_count": null,
   "metadata": {},
   "outputs": [],
   "source": [
    "results_df = pd.DataFrame(results,columns=['model','target','dataset','correlation','rmse','idx'])"
   ]
  },
  {
   "cell_type": "code",
   "execution_count": null,
   "metadata": {},
   "outputs": [],
   "source": [
    "results_df[results_df['dataset'] == 'test']"
   ]
  },
  {
   "cell_type": "code",
   "execution_count": null,
   "metadata": {},
   "outputs": [],
   "source": [
    "# Setting the positions and width for the bars\n",
    "results_df_test = results_df[results_df['dataset'] == 'test'].copy().sort_values(by=['model','idx'])\n",
    "pos = list(range(4))\n",
    "width = 0.25 \n",
    "    \n",
    "# Plotting the bars\n",
    "fig, ax = plt.subplots()\n",
    "\n",
    "plt.bar(pos, results_df_test[results_df_test['model'] == 'cnn']['correlation'], \n",
    "        width, \n",
    "        alpha=0.5, label='CNN');\n",
    "\n",
    "plt.bar([p + width for p in pos], results_df_test[results_df_test['model'] == 'rr']['correlation'], \n",
    "        width, \n",
    "        alpha=0.5, label='Ridge Regression');\n",
    "\n",
    "plt.bar([p + 2*width for p in pos], results_df_test[results_df_test['model'] == 'rf']['correlation'], \n",
    "        width, \n",
    "        alpha=0.5, label='Random Forest');\n",
    "\n",
    "ax.set_xticks([p + width for p in pos])\n",
    "ax.set_xticklabels(results_df_test['target']);\n",
    "plt.xlabel(\"Parameter\")\n",
    "plt.ylabel(\"Correlation\")\n",
    "plt.legend()\n",
    "plt.ylim([0.5,1]);\n",
    "plt.title(\"Model Performance: Test Correlation\")\n",
    "plt.savefig(\"figures/corr_performance.png\",dpi=600)"
   ]
  },
  {
   "cell_type": "code",
   "execution_count": null,
   "metadata": {},
   "outputs": [],
   "source": [
    "results_df_test"
   ]
  }
 ],
 "metadata": {
  "kernelspec": {
   "display_name": "Python 3",
   "language": "python",
   "name": "python3"
  },
  "language_info": {
   "codemirror_mode": {
    "name": "ipython",
    "version": 3
   },
   "file_extension": ".py",
   "mimetype": "text/x-python",
   "name": "python",
   "nbconvert_exporter": "python",
   "pygments_lexer": "ipython3",
   "version": "3.8.2"
  }
 },
 "nbformat": 4,
 "nbformat_minor": 2
}
